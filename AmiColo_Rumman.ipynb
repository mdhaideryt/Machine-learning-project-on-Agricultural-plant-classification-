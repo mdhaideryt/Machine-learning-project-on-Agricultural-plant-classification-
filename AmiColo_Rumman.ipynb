{
 "cells": [
  {
   "cell_type": "code",
   "execution_count": 1,
   "id": "a85e939b",
   "metadata": {},
   "outputs": [],
   "source": [
    "import pandas as pd"
   ]
  },
  {
   "cell_type": "code",
   "execution_count": 2,
   "id": "0e6042b1",
   "metadata": {},
   "outputs": [],
   "source": [
    "dataset=pd.read_csv(\"Dataset_AmiColo.csv\")"
   ]
  },
  {
   "cell_type": "code",
   "execution_count": 3,
   "id": "dcdff136",
   "metadata": {},
   "outputs": [
    {
     "data": {
      "text/html": [
       "<div>\n",
       "<style scoped>\n",
       "    .dataframe tbody tr th:only-of-type {\n",
       "        vertical-align: middle;\n",
       "    }\n",
       "\n",
       "    .dataframe tbody tr th {\n",
       "        vertical-align: top;\n",
       "    }\n",
       "\n",
       "    .dataframe thead th {\n",
       "        text-align: right;\n",
       "    }\n",
       "</style>\n",
       "<table border=\"1\" class=\"dataframe\">\n",
       "  <thead>\n",
       "    <tr style=\"text-align: right;\">\n",
       "      <th></th>\n",
       "      <th>Area</th>\n",
       "      <th>Perimeter</th>\n",
       "      <th>MajorAxisLength</th>\n",
       "      <th>DFactor1</th>\n",
       "      <th>DFactor2</th>\n",
       "      <th>DFactor3</th>\n",
       "      <th>DFactor4</th>\n",
       "      <th>DFactor5</th>\n",
       "      <th>DFactor6</th>\n",
       "      <th>DFactor7</th>\n",
       "      <th>DFactor8</th>\n",
       "      <th>DFactor9</th>\n",
       "      <th>ShapeFactor1</th>\n",
       "      <th>ShapeFactor2</th>\n",
       "      <th>ShapeFactor3</th>\n",
       "      <th>ShapeFactor4</th>\n",
       "      <th>Custom</th>\n",
       "    </tr>\n",
       "  </thead>\n",
       "  <tbody>\n",
       "    <tr>\n",
       "      <th>0</th>\n",
       "      <td>28395</td>\n",
       "      <td>610.291</td>\n",
       "      <td>208.178117</td>\n",
       "      <td>173.888747</td>\n",
       "      <td>1.197191</td>\n",
       "      <td>0.549812</td>\n",
       "      <td>28715</td>\n",
       "      <td>190.141097</td>\n",
       "      <td>0.763923</td>\n",
       "      <td>0.988856</td>\n",
       "      <td>0.958027</td>\n",
       "      <td>0.913358</td>\n",
       "      <td>0.007332</td>\n",
       "      <td>0.003147</td>\n",
       "      <td>0.834222</td>\n",
       "      <td>0.998724</td>\n",
       "      <td>1</td>\n",
       "    </tr>\n",
       "    <tr>\n",
       "      <th>1</th>\n",
       "      <td>28734</td>\n",
       "      <td>638.018</td>\n",
       "      <td>200.524796</td>\n",
       "      <td>182.734419</td>\n",
       "      <td>1.097356</td>\n",
       "      <td>0.411785</td>\n",
       "      <td>29172</td>\n",
       "      <td>191.272751</td>\n",
       "      <td>0.783968</td>\n",
       "      <td>0.984986</td>\n",
       "      <td>0.887034</td>\n",
       "      <td>0.953861</td>\n",
       "      <td>0.006979</td>\n",
       "      <td>0.003564</td>\n",
       "      <td>0.909851</td>\n",
       "      <td>0.998430</td>\n",
       "      <td>1</td>\n",
       "    </tr>\n",
       "    <tr>\n",
       "      <th>2</th>\n",
       "      <td>29380</td>\n",
       "      <td>624.110</td>\n",
       "      <td>212.826130</td>\n",
       "      <td>175.931143</td>\n",
       "      <td>1.209713</td>\n",
       "      <td>0.562727</td>\n",
       "      <td>29690</td>\n",
       "      <td>193.410904</td>\n",
       "      <td>0.778113</td>\n",
       "      <td>0.989559</td>\n",
       "      <td>0.947849</td>\n",
       "      <td>0.908774</td>\n",
       "      <td>0.007244</td>\n",
       "      <td>0.003048</td>\n",
       "      <td>0.825871</td>\n",
       "      <td>0.999066</td>\n",
       "      <td>1</td>\n",
       "    </tr>\n",
       "    <tr>\n",
       "      <th>3</th>\n",
       "      <td>30008</td>\n",
       "      <td>645.884</td>\n",
       "      <td>210.557999</td>\n",
       "      <td>182.516516</td>\n",
       "      <td>1.153638</td>\n",
       "      <td>0.498616</td>\n",
       "      <td>30724</td>\n",
       "      <td>195.467062</td>\n",
       "      <td>0.782681</td>\n",
       "      <td>0.976696</td>\n",
       "      <td>0.903936</td>\n",
       "      <td>0.928329</td>\n",
       "      <td>0.007017</td>\n",
       "      <td>0.003215</td>\n",
       "      <td>0.861794</td>\n",
       "      <td>0.994199</td>\n",
       "      <td>1</td>\n",
       "    </tr>\n",
       "    <tr>\n",
       "      <th>4</th>\n",
       "      <td>30140</td>\n",
       "      <td>620.134</td>\n",
       "      <td>201.847882</td>\n",
       "      <td>190.279279</td>\n",
       "      <td>1.060798</td>\n",
       "      <td>0.333680</td>\n",
       "      <td>30417</td>\n",
       "      <td>195.896503</td>\n",
       "      <td>0.773098</td>\n",
       "      <td>0.990893</td>\n",
       "      <td>0.984877</td>\n",
       "      <td>0.970516</td>\n",
       "      <td>0.006697</td>\n",
       "      <td>0.003665</td>\n",
       "      <td>0.941900</td>\n",
       "      <td>0.999166</td>\n",
       "      <td>1</td>\n",
       "    </tr>\n",
       "  </tbody>\n",
       "</table>\n",
       "</div>"
      ],
      "text/plain": [
       "    Area  Perimeter  MajorAxisLength    DFactor1  DFactor2  DFactor3   \n",
       "0  28395    610.291       208.178117  173.888747  1.197191  0.549812  \\\n",
       "1  28734    638.018       200.524796  182.734419  1.097356  0.411785   \n",
       "2  29380    624.110       212.826130  175.931143  1.209713  0.562727   \n",
       "3  30008    645.884       210.557999  182.516516  1.153638  0.498616   \n",
       "4  30140    620.134       201.847882  190.279279  1.060798  0.333680   \n",
       "\n",
       "   DFactor4    DFactor5  DFactor6  DFactor7  DFactor8  DFactor9  ShapeFactor1   \n",
       "0     28715  190.141097  0.763923  0.988856  0.958027  0.913358      0.007332  \\\n",
       "1     29172  191.272751  0.783968  0.984986  0.887034  0.953861      0.006979   \n",
       "2     29690  193.410904  0.778113  0.989559  0.947849  0.908774      0.007244   \n",
       "3     30724  195.467062  0.782681  0.976696  0.903936  0.928329      0.007017   \n",
       "4     30417  195.896503  0.773098  0.990893  0.984877  0.970516      0.006697   \n",
       "\n",
       "   ShapeFactor2  ShapeFactor3  ShapeFactor4  Custom  \n",
       "0      0.003147      0.834222      0.998724       1  \n",
       "1      0.003564      0.909851      0.998430       1  \n",
       "2      0.003048      0.825871      0.999066       1  \n",
       "3      0.003215      0.861794      0.994199       1  \n",
       "4      0.003665      0.941900      0.999166       1  "
      ]
     },
     "execution_count": 3,
     "metadata": {},
     "output_type": "execute_result"
    }
   ],
   "source": [
    "dataset.head()"
   ]
  },
  {
   "cell_type": "code",
   "execution_count": 4,
   "id": "d97f170c",
   "metadata": {},
   "outputs": [
    {
     "data": {
      "text/html": [
       "<div>\n",
       "<style scoped>\n",
       "    .dataframe tbody tr th:only-of-type {\n",
       "        vertical-align: middle;\n",
       "    }\n",
       "\n",
       "    .dataframe tbody tr th {\n",
       "        vertical-align: top;\n",
       "    }\n",
       "\n",
       "    .dataframe thead th {\n",
       "        text-align: right;\n",
       "    }\n",
       "</style>\n",
       "<table border=\"1\" class=\"dataframe\">\n",
       "  <thead>\n",
       "    <tr style=\"text-align: right;\">\n",
       "      <th></th>\n",
       "      <th>Area</th>\n",
       "      <th>Perimeter</th>\n",
       "      <th>MajorAxisLength</th>\n",
       "      <th>DFactor1</th>\n",
       "      <th>DFactor2</th>\n",
       "      <th>DFactor3</th>\n",
       "      <th>DFactor4</th>\n",
       "      <th>DFactor5</th>\n",
       "      <th>DFactor6</th>\n",
       "      <th>DFactor7</th>\n",
       "      <th>DFactor8</th>\n",
       "      <th>DFactor9</th>\n",
       "      <th>ShapeFactor1</th>\n",
       "      <th>ShapeFactor2</th>\n",
       "      <th>ShapeFactor3</th>\n",
       "      <th>ShapeFactor4</th>\n",
       "      <th>Custom</th>\n",
       "    </tr>\n",
       "  </thead>\n",
       "  <tbody>\n",
       "    <tr>\n",
       "      <th>count</th>\n",
       "      <td>13610.000000</td>\n",
       "      <td>13610.000000</td>\n",
       "      <td>13610.000000</td>\n",
       "      <td>13610.000000</td>\n",
       "      <td>13610.000000</td>\n",
       "      <td>13610.000000</td>\n",
       "      <td>13610.000000</td>\n",
       "      <td>13610.000000</td>\n",
       "      <td>13610.000000</td>\n",
       "      <td>13610.000000</td>\n",
       "      <td>13610.000000</td>\n",
       "      <td>13610.000000</td>\n",
       "      <td>13610.000000</td>\n",
       "      <td>13610.000000</td>\n",
       "      <td>13610.000000</td>\n",
       "      <td>13610.000000</td>\n",
       "      <td>13610.000000</td>\n",
       "    </tr>\n",
       "    <tr>\n",
       "      <th>mean</th>\n",
       "      <td>53049.307788</td>\n",
       "      <td>855.292971</td>\n",
       "      <td>320.147361</td>\n",
       "      <td>202.270645</td>\n",
       "      <td>1.583270</td>\n",
       "      <td>0.750909</td>\n",
       "      <td>53769.246216</td>\n",
       "      <td>253.066415</td>\n",
       "      <td>0.749730</td>\n",
       "      <td>0.987143</td>\n",
       "      <td>0.873277</td>\n",
       "      <td>0.799856</td>\n",
       "      <td>0.006564</td>\n",
       "      <td>0.001716</td>\n",
       "      <td>0.643577</td>\n",
       "      <td>0.995063</td>\n",
       "      <td>3.368699</td>\n",
       "    </tr>\n",
       "    <tr>\n",
       "      <th>std</th>\n",
       "      <td>29324.930075</td>\n",
       "      <td>214.294695</td>\n",
       "      <td>85.694937</td>\n",
       "      <td>44.971743</td>\n",
       "      <td>0.246666</td>\n",
       "      <td>0.091991</td>\n",
       "      <td>29775.759647</td>\n",
       "      <td>59.178740</td>\n",
       "      <td>0.049087</td>\n",
       "      <td>0.004661</td>\n",
       "      <td>0.059520</td>\n",
       "      <td>0.061709</td>\n",
       "      <td>0.001128</td>\n",
       "      <td>0.000596</td>\n",
       "      <td>0.098987</td>\n",
       "      <td>0.004366</td>\n",
       "      <td>2.151815</td>\n",
       "    </tr>\n",
       "    <tr>\n",
       "      <th>min</th>\n",
       "      <td>20420.000000</td>\n",
       "      <td>524.736000</td>\n",
       "      <td>183.601165</td>\n",
       "      <td>122.512653</td>\n",
       "      <td>1.024868</td>\n",
       "      <td>0.218951</td>\n",
       "      <td>20684.000000</td>\n",
       "      <td>161.243764</td>\n",
       "      <td>0.555315</td>\n",
       "      <td>0.919246</td>\n",
       "      <td>0.489618</td>\n",
       "      <td>0.640577</td>\n",
       "      <td>0.002778</td>\n",
       "      <td>0.000564</td>\n",
       "      <td>0.410339</td>\n",
       "      <td>0.947687</td>\n",
       "      <td>1.000000</td>\n",
       "    </tr>\n",
       "    <tr>\n",
       "      <th>25%</th>\n",
       "      <td>36326.500000</td>\n",
       "      <td>703.506750</td>\n",
       "      <td>253.310474</td>\n",
       "      <td>175.845500</td>\n",
       "      <td>1.432352</td>\n",
       "      <td>0.715949</td>\n",
       "      <td>36713.750000</td>\n",
       "      <td>215.063563</td>\n",
       "      <td>0.718633</td>\n",
       "      <td>0.985670</td>\n",
       "      <td>0.832075</td>\n",
       "      <td>0.762459</td>\n",
       "      <td>0.005900</td>\n",
       "      <td>0.001154</td>\n",
       "      <td>0.581344</td>\n",
       "      <td>0.993703</td>\n",
       "      <td>1.000000</td>\n",
       "    </tr>\n",
       "    <tr>\n",
       "      <th>50%</th>\n",
       "      <td>44655.500000</td>\n",
       "      <td>794.945500</td>\n",
       "      <td>296.891340</td>\n",
       "      <td>192.429315</td>\n",
       "      <td>1.551132</td>\n",
       "      <td>0.764444</td>\n",
       "      <td>45189.000000</td>\n",
       "      <td>238.447370</td>\n",
       "      <td>0.759853</td>\n",
       "      <td>0.988283</td>\n",
       "      <td>0.883147</td>\n",
       "      <td>0.801260</td>\n",
       "      <td>0.006645</td>\n",
       "      <td>0.001694</td>\n",
       "      <td>0.642017</td>\n",
       "      <td>0.996386</td>\n",
       "      <td>3.000000</td>\n",
       "    </tr>\n",
       "    <tr>\n",
       "      <th>75%</th>\n",
       "      <td>61332.500000</td>\n",
       "      <td>977.217500</td>\n",
       "      <td>376.496345</td>\n",
       "      <td>217.032814</td>\n",
       "      <td>1.707118</td>\n",
       "      <td>0.810468</td>\n",
       "      <td>62298.500000</td>\n",
       "      <td>279.447606</td>\n",
       "      <td>0.786850</td>\n",
       "      <td>0.990013</td>\n",
       "      <td>0.916864</td>\n",
       "      <td>0.834263</td>\n",
       "      <td>0.007272</td>\n",
       "      <td>0.002170</td>\n",
       "      <td>0.695995</td>\n",
       "      <td>0.997882</td>\n",
       "      <td>5.000000</td>\n",
       "    </tr>\n",
       "    <tr>\n",
       "      <th>max</th>\n",
       "      <td>254616.000000</td>\n",
       "      <td>1985.370000</td>\n",
       "      <td>738.860154</td>\n",
       "      <td>460.198497</td>\n",
       "      <td>2.430306</td>\n",
       "      <td>0.911423</td>\n",
       "      <td>263261.000000</td>\n",
       "      <td>569.374358</td>\n",
       "      <td>0.866195</td>\n",
       "      <td>0.994677</td>\n",
       "      <td>0.990685</td>\n",
       "      <td>0.987303</td>\n",
       "      <td>0.010451</td>\n",
       "      <td>0.003665</td>\n",
       "      <td>0.974767</td>\n",
       "      <td>0.999733</td>\n",
       "      <td>7.000000</td>\n",
       "    </tr>\n",
       "  </tbody>\n",
       "</table>\n",
       "</div>"
      ],
      "text/plain": [
       "                Area     Perimeter  MajorAxisLength      DFactor1   \n",
       "count   13610.000000  13610.000000     13610.000000  13610.000000  \\\n",
       "mean    53049.307788    855.292971       320.147361    202.270645   \n",
       "std     29324.930075    214.294695        85.694937     44.971743   \n",
       "min     20420.000000    524.736000       183.601165    122.512653   \n",
       "25%     36326.500000    703.506750       253.310474    175.845500   \n",
       "50%     44655.500000    794.945500       296.891340    192.429315   \n",
       "75%     61332.500000    977.217500       376.496345    217.032814   \n",
       "max    254616.000000   1985.370000       738.860154    460.198497   \n",
       "\n",
       "           DFactor2      DFactor3       DFactor4      DFactor5      DFactor6   \n",
       "count  13610.000000  13610.000000   13610.000000  13610.000000  13610.000000  \\\n",
       "mean       1.583270      0.750909   53769.246216    253.066415      0.749730   \n",
       "std        0.246666      0.091991   29775.759647     59.178740      0.049087   \n",
       "min        1.024868      0.218951   20684.000000    161.243764      0.555315   \n",
       "25%        1.432352      0.715949   36713.750000    215.063563      0.718633   \n",
       "50%        1.551132      0.764444   45189.000000    238.447370      0.759853   \n",
       "75%        1.707118      0.810468   62298.500000    279.447606      0.786850   \n",
       "max        2.430306      0.911423  263261.000000    569.374358      0.866195   \n",
       "\n",
       "           DFactor7      DFactor8      DFactor9  ShapeFactor1  ShapeFactor2   \n",
       "count  13610.000000  13610.000000  13610.000000  13610.000000  13610.000000  \\\n",
       "mean       0.987143      0.873277      0.799856      0.006564      0.001716   \n",
       "std        0.004661      0.059520      0.061709      0.001128      0.000596   \n",
       "min        0.919246      0.489618      0.640577      0.002778      0.000564   \n",
       "25%        0.985670      0.832075      0.762459      0.005900      0.001154   \n",
       "50%        0.988283      0.883147      0.801260      0.006645      0.001694   \n",
       "75%        0.990013      0.916864      0.834263      0.007272      0.002170   \n",
       "max        0.994677      0.990685      0.987303      0.010451      0.003665   \n",
       "\n",
       "       ShapeFactor3  ShapeFactor4        Custom  \n",
       "count  13610.000000  13610.000000  13610.000000  \n",
       "mean       0.643577      0.995063      3.368699  \n",
       "std        0.098987      0.004366      2.151815  \n",
       "min        0.410339      0.947687      1.000000  \n",
       "25%        0.581344      0.993703      1.000000  \n",
       "50%        0.642017      0.996386      3.000000  \n",
       "75%        0.695995      0.997882      5.000000  \n",
       "max        0.974767      0.999733      7.000000  "
      ]
     },
     "execution_count": 4,
     "metadata": {},
     "output_type": "execute_result"
    }
   ],
   "source": [
    "dataset.describe()"
   ]
  },
  {
   "cell_type": "code",
   "execution_count": 5,
   "id": "2775c7ea",
   "metadata": {},
   "outputs": [
    {
     "name": "stdout",
     "output_type": "stream",
     "text": [
      "<class 'pandas.core.frame.DataFrame'>\n",
      "RangeIndex: 13610 entries, 0 to 13609\n",
      "Data columns (total 17 columns):\n",
      " #   Column           Non-Null Count  Dtype  \n",
      "---  ------           --------------  -----  \n",
      " 0   Area             13610 non-null  int64  \n",
      " 1   Perimeter        13610 non-null  float64\n",
      " 2   MajorAxisLength  13610 non-null  float64\n",
      " 3   DFactor1         13610 non-null  float64\n",
      " 4   DFactor2         13610 non-null  float64\n",
      " 5   DFactor3         13610 non-null  float64\n",
      " 6   DFactor4         13610 non-null  int64  \n",
      " 7   DFactor5         13610 non-null  float64\n",
      " 8   DFactor6         13610 non-null  float64\n",
      " 9   DFactor7         13610 non-null  float64\n",
      " 10  DFactor8         13610 non-null  float64\n",
      " 11  DFactor9         13610 non-null  float64\n",
      " 12  ShapeFactor1     13610 non-null  float64\n",
      " 13  ShapeFactor2     13610 non-null  float64\n",
      " 14  ShapeFactor3     13610 non-null  float64\n",
      " 15  ShapeFactor4     13610 non-null  float64\n",
      " 16  Custom           13610 non-null  int64  \n",
      "dtypes: float64(14), int64(3)\n",
      "memory usage: 1.8 MB\n"
     ]
    }
   ],
   "source": [
    "dataset.info()"
   ]
  },
  {
   "cell_type": "markdown",
   "id": "a389dbb2",
   "metadata": {},
   "source": [
    "Above output shows that there is no missing value in a column because each of them has 13610 number of rows."
   ]
  },
  {
   "cell_type": "code",
   "execution_count": 6,
   "id": "77e8ab3a",
   "metadata": {},
   "outputs": [
    {
     "data": {
      "text/plain": [
       "array([[<Axes: title={'center': 'Area'}>,\n",
       "        <Axes: title={'center': 'Perimeter'}>,\n",
       "        <Axes: title={'center': 'MajorAxisLength'}>,\n",
       "        <Axes: title={'center': 'DFactor1'}>],\n",
       "       [<Axes: title={'center': 'DFactor2'}>,\n",
       "        <Axes: title={'center': 'DFactor3'}>,\n",
       "        <Axes: title={'center': 'DFactor4'}>,\n",
       "        <Axes: title={'center': 'DFactor5'}>],\n",
       "       [<Axes: title={'center': 'DFactor6'}>,\n",
       "        <Axes: title={'center': 'DFactor7'}>,\n",
       "        <Axes: title={'center': 'DFactor8'}>,\n",
       "        <Axes: title={'center': 'DFactor9'}>],\n",
       "       [<Axes: title={'center': 'ShapeFactor1'}>,\n",
       "        <Axes: title={'center': 'ShapeFactor2'}>,\n",
       "        <Axes: title={'center': 'ShapeFactor3'}>,\n",
       "        <Axes: title={'center': 'ShapeFactor4'}>],\n",
       "       [<Axes: title={'center': 'Custom'}>, <Axes: >, <Axes: >, <Axes: >]],\n",
       "      dtype=object)"
      ]
     },
     "execution_count": 6,
     "metadata": {},
     "output_type": "execute_result"
    },
    {
     "data": {
      "image/png": "[encoded data removed]",
      "text/plain": [
       "<Figure size 2000x1500 with 20 Axes>"
      ]
     },
     "metadata": {},
     "output_type": "display_data"
    }
   ],
   "source": [
    "%matplotlib inline\n",
    "import matplotlib.pyplot as plt\n",
    "dataset.hist(bins=50, figsize=(20,15))"
   ]
  },
  {
   "cell_type": "code",
   "execution_count": 7,
   "id": "47cce489",
   "metadata": {},
   "outputs": [],
   "source": [
    "from sklearn.model_selection import StratifiedShuffleSplit\n",
    "s=StratifiedShuffleSplit(n_splits=6, test_size=0.2, random_state=42)\n",
    "for train_set, test_set in s.split(dataset, dataset['Custom']):\n",
    "    strat_train_set=dataset.loc[train_set]\n",
    "    strat_test_set=dataset.loc[test_set]"
   ]
  },
  {
   "cell_type": "code",
   "execution_count": 8,
   "id": "36a782cd",
   "metadata": {},
   "outputs": [
    {
     "data": {
      "text/plain": [
       "Custom\n",
       "1    2837\n",
       "2    2109\n",
       "7    1622\n",
       "3    1542\n",
       "4    1304\n",
       "6    1057\n",
       "5     417\n",
       "Name: count, dtype: int64"
      ]
     },
     "execution_count": 8,
     "metadata": {},
     "output_type": "execute_result"
    }
   ],
   "source": [
    "strat_train_set['Custom'].value_counts()"
   ]
  },
  {
   "cell_type": "code",
   "execution_count": 9,
   "id": "130f4e5c",
   "metadata": {},
   "outputs": [
    {
     "data": {
      "text/plain": [
       "Custom\n",
       "1    709\n",
       "2    527\n",
       "7    405\n",
       "3    386\n",
       "4    326\n",
       "6    265\n",
       "5    104\n",
       "Name: count, dtype: int64"
      ]
     },
     "execution_count": 9,
     "metadata": {},
     "output_type": "execute_result"
    }
   ],
   "source": [
    "strat_test_set['Custom'].value_counts()"
   ]
  },
  {
   "cell_type": "code",
   "execution_count": 10,
   "id": "d7f5ea35",
   "metadata": {},
   "outputs": [],
   "source": [
    "dataset_labels=strat_train_set['Custom'].copy()\n",
    "dataset_features=strat_train_set.drop('Custom',axis=1)"
   ]
  },
  {
   "cell_type": "code",
   "execution_count": 11,
   "id": "f9483ea9",
   "metadata": {},
   "outputs": [
    {
     "data": {
      "text/html": [
       "<div>\n",
       "<style scoped>\n",
       "    .dataframe tbody tr th:only-of-type {\n",
       "        vertical-align: middle;\n",
       "    }\n",
       "\n",
       "    .dataframe tbody tr th {\n",
       "        vertical-align: top;\n",
       "    }\n",
       "\n",
       "    .dataframe thead th {\n",
       "        text-align: right;\n",
       "    }\n",
       "</style>\n",
       "<table border=\"1\" class=\"dataframe\">\n",
       "  <thead>\n",
       "    <tr style=\"text-align: right;\">\n",
       "      <th></th>\n",
       "      <th>Area</th>\n",
       "      <th>Perimeter</th>\n",
       "      <th>MajorAxisLength</th>\n",
       "      <th>DFactor1</th>\n",
       "      <th>DFactor2</th>\n",
       "      <th>DFactor3</th>\n",
       "      <th>DFactor4</th>\n",
       "      <th>DFactor5</th>\n",
       "      <th>DFactor6</th>\n",
       "      <th>DFactor7</th>\n",
       "      <th>DFactor8</th>\n",
       "      <th>DFactor9</th>\n",
       "      <th>ShapeFactor1</th>\n",
       "      <th>ShapeFactor2</th>\n",
       "      <th>ShapeFactor3</th>\n",
       "      <th>ShapeFactor4</th>\n",
       "    </tr>\n",
       "  </thead>\n",
       "  <tbody>\n",
       "    <tr>\n",
       "      <th>6927</th>\n",
       "      <td>58395</td>\n",
       "      <td>979.459</td>\n",
       "      <td>396.063165</td>\n",
       "      <td>188.377989</td>\n",
       "      <td>2.102492</td>\n",
       "      <td>0.879648</td>\n",
       "      <td>59139</td>\n",
       "      <td>272.673474</td>\n",
       "      <td>0.781832</td>\n",
       "      <td>0.987419</td>\n",
       "      <td>0.764915</td>\n",
       "      <td>0.688460</td>\n",
       "      <td>0.006782</td>\n",
       "      <td>0.000940</td>\n",
       "      <td>0.473977</td>\n",
       "      <td>0.996532</td>\n",
       "    </tr>\n",
       "    <tr>\n",
       "      <th>2439</th>\n",
       "      <td>64783</td>\n",
       "      <td>1059.216</td>\n",
       "      <td>355.291927</td>\n",
       "      <td>232.702732</td>\n",
       "      <td>1.526806</td>\n",
       "      <td>0.755662</td>\n",
       "      <td>66071</td>\n",
       "      <td>287.200761</td>\n",
       "      <td>0.730855</td>\n",
       "      <td>0.980506</td>\n",
       "      <td>0.725608</td>\n",
       "      <td>0.808351</td>\n",
       "      <td>0.005484</td>\n",
       "      <td>0.001444</td>\n",
       "      <td>0.653432</td>\n",
       "      <td>0.997664</td>\n",
       "    </tr>\n",
       "    <tr>\n",
       "      <th>7103</th>\n",
       "      <td>60627</td>\n",
       "      <td>997.144</td>\n",
       "      <td>423.870736</td>\n",
       "      <td>183.178567</td>\n",
       "      <td>2.313976</td>\n",
       "      <td>0.901799</td>\n",
       "      <td>61352</td>\n",
       "      <td>277.835732</td>\n",
       "      <td>0.655824</td>\n",
       "      <td>0.988183</td>\n",
       "      <td>0.766232</td>\n",
       "      <td>0.655473</td>\n",
       "      <td>0.006991</td>\n",
       "      <td>0.000796</td>\n",
       "      <td>0.429645</td>\n",
       "      <td>0.994187</td>\n",
       "    </tr>\n",
       "    <tr>\n",
       "      <th>4186</th>\n",
       "      <td>67935</td>\n",
       "      <td>989.286</td>\n",
       "      <td>378.066797</td>\n",
       "      <td>231.005289</td>\n",
       "      <td>1.636615</td>\n",
       "      <td>0.791617</td>\n",
       "      <td>68767</td>\n",
       "      <td>294.104622</td>\n",
       "      <td>0.811038</td>\n",
       "      <td>0.987901</td>\n",
       "      <td>0.872288</td>\n",
       "      <td>0.777917</td>\n",
       "      <td>0.005565</td>\n",
       "      <td>0.001257</td>\n",
       "      <td>0.605155</td>\n",
       "      <td>0.990406</td>\n",
       "    </tr>\n",
       "    <tr>\n",
       "      <th>8908</th>\n",
       "      <td>45298</td>\n",
       "      <td>805.407</td>\n",
       "      <td>309.163631</td>\n",
       "      <td>187.263429</td>\n",
       "      <td>1.650956</td>\n",
       "      <td>0.795686</td>\n",
       "      <td>45759</td>\n",
       "      <td>240.156626</td>\n",
       "      <td>0.796827</td>\n",
       "      <td>0.989925</td>\n",
       "      <td>0.877522</td>\n",
       "      <td>0.776795</td>\n",
       "      <td>0.006825</td>\n",
       "      <td>0.001533</td>\n",
       "      <td>0.603410</td>\n",
       "      <td>0.996203</td>\n",
       "    </tr>\n",
       "    <tr>\n",
       "      <th>...</th>\n",
       "      <td>...</td>\n",
       "      <td>...</td>\n",
       "      <td>...</td>\n",
       "      <td>...</td>\n",
       "      <td>...</td>\n",
       "      <td>...</td>\n",
       "      <td>...</td>\n",
       "      <td>...</td>\n",
       "      <td>...</td>\n",
       "      <td>...</td>\n",
       "      <td>...</td>\n",
       "      <td>...</td>\n",
       "      <td>...</td>\n",
       "      <td>...</td>\n",
       "      <td>...</td>\n",
       "      <td>...</td>\n",
       "    </tr>\n",
       "    <tr>\n",
       "      <th>1755</th>\n",
       "      <td>45252</td>\n",
       "      <td>786.514</td>\n",
       "      <td>269.905634</td>\n",
       "      <td>215.013446</td>\n",
       "      <td>1.255297</td>\n",
       "      <td>0.604474</td>\n",
       "      <td>45733</td>\n",
       "      <td>240.034656</td>\n",
       "      <td>0.714024</td>\n",
       "      <td>0.989482</td>\n",
       "      <td>0.919252</td>\n",
       "      <td>0.889328</td>\n",
       "      <td>0.005965</td>\n",
       "      <td>0.002301</td>\n",
       "      <td>0.790904</td>\n",
       "      <td>0.992820</td>\n",
       "    </tr>\n",
       "    <tr>\n",
       "      <th>6497</th>\n",
       "      <td>54100</td>\n",
       "      <td>937.493</td>\n",
       "      <td>389.240573</td>\n",
       "      <td>177.538514</td>\n",
       "      <td>2.192429</td>\n",
       "      <td>0.889921</td>\n",
       "      <td>54802</td>\n",
       "      <td>262.454300</td>\n",
       "      <td>0.633438</td>\n",
       "      <td>0.987190</td>\n",
       "      <td>0.773519</td>\n",
       "      <td>0.674273</td>\n",
       "      <td>0.007195</td>\n",
       "      <td>0.000917</td>\n",
       "      <td>0.454644</td>\n",
       "      <td>0.996774</td>\n",
       "    </tr>\n",
       "    <tr>\n",
       "      <th>27</th>\n",
       "      <td>31748</td>\n",
       "      <td>641.826</td>\n",
       "      <td>219.776518</td>\n",
       "      <td>184.115105</td>\n",
       "      <td>1.193691</td>\n",
       "      <td>0.546073</td>\n",
       "      <td>32020</td>\n",
       "      <td>201.054244</td>\n",
       "      <td>0.775590</td>\n",
       "      <td>0.991505</td>\n",
       "      <td>0.968482</td>\n",
       "      <td>0.914812</td>\n",
       "      <td>0.006923</td>\n",
       "      <td>0.002991</td>\n",
       "      <td>0.836881</td>\n",
       "      <td>0.998978</td>\n",
       "    </tr>\n",
       "    <tr>\n",
       "      <th>1963</th>\n",
       "      <td>50253</td>\n",
       "      <td>864.971</td>\n",
       "      <td>285.970002</td>\n",
       "      <td>224.164791</td>\n",
       "      <td>1.275713</td>\n",
       "      <td>0.620918</td>\n",
       "      <td>51027</td>\n",
       "      <td>252.950799</td>\n",
       "      <td>0.766753</td>\n",
       "      <td>0.984832</td>\n",
       "      <td>0.844051</td>\n",
       "      <td>0.884536</td>\n",
       "      <td>0.005691</td>\n",
       "      <td>0.002149</td>\n",
       "      <td>0.782404</td>\n",
       "      <td>0.998123</td>\n",
       "    </tr>\n",
       "    <tr>\n",
       "      <th>11123</th>\n",
       "      <td>29274</td>\n",
       "      <td>623.343</td>\n",
       "      <td>225.495051</td>\n",
       "      <td>165.424599</td>\n",
       "      <td>1.363129</td>\n",
       "      <td>0.679575</td>\n",
       "      <td>29595</td>\n",
       "      <td>193.061686</td>\n",
       "      <td>0.746024</td>\n",
       "      <td>0.989154</td>\n",
       "      <td>0.946755</td>\n",
       "      <td>0.856168</td>\n",
       "      <td>0.007703</td>\n",
       "      <td>0.002553</td>\n",
       "      <td>0.733024</td>\n",
       "      <td>0.999206</td>\n",
       "    </tr>\n",
       "  </tbody>\n",
       "</table>\n",
       "<p>10888 rows × 16 columns</p>\n",
       "</div>"
      ],
      "text/plain": [
       "        Area  Perimeter  MajorAxisLength    DFactor1  DFactor2  DFactor3   \n",
       "6927   58395    979.459       396.063165  188.377989  2.102492  0.879648  \\\n",
       "2439   64783   1059.216       355.291927  232.702732  1.526806  0.755662   \n",
       "7103   60627    997.144       423.870736  183.178567  2.313976  0.901799   \n",
       "4186   67935    989.286       378.066797  231.005289  1.636615  0.791617   \n",
       "8908   45298    805.407       309.163631  187.263429  1.650956  0.795686   \n",
       "...      ...        ...              ...         ...       ...       ...   \n",
       "1755   45252    786.514       269.905634  215.013446  1.255297  0.604474   \n",
       "6497   54100    937.493       389.240573  177.538514  2.192429  0.889921   \n",
       "27     31748    641.826       219.776518  184.115105  1.193691  0.546073   \n",
       "1963   50253    864.971       285.970002  224.164791  1.275713  0.620918   \n",
       "11123  29274    623.343       225.495051  165.424599  1.363129  0.679575   \n",
       "\n",
       "       DFactor4    DFactor5  DFactor6  DFactor7  DFactor8  DFactor9   \n",
       "6927      59139  272.673474  0.781832  0.987419  0.764915  0.688460  \\\n",
       "2439      66071  287.200761  0.730855  0.980506  0.725608  0.808351   \n",
       "7103      61352  277.835732  0.655824  0.988183  0.766232  0.655473   \n",
       "4186      68767  294.104622  0.811038  0.987901  0.872288  0.777917   \n",
       "8908      45759  240.156626  0.796827  0.989925  0.877522  0.776795   \n",
       "...         ...         ...       ...       ...       ...       ...   \n",
       "1755      45733  240.034656  0.714024  0.989482  0.919252  0.889328   \n",
       "6497      54802  262.454300  0.633438  0.987190  0.773519  0.674273   \n",
       "27        32020  201.054244  0.775590  0.991505  0.968482  0.914812   \n",
       "1963      51027  252.950799  0.766753  0.984832  0.844051  0.884536   \n",
       "11123     29595  193.061686  0.746024  0.989154  0.946755  0.856168   \n",
       "\n",
       "       ShapeFactor1  ShapeFactor2  ShapeFactor3  ShapeFactor4  \n",
       "6927       0.006782      0.000940      0.473977      0.996532  \n",
       "2439       0.005484      0.001444      0.653432      0.997664  \n",
       "7103       0.006991      0.000796      0.429645      0.994187  \n",
       "4186       0.005565      0.001257      0.605155      0.990406  \n",
       "8908       0.006825      0.001533      0.603410      0.996203  \n",
       "...             ...           ...           ...           ...  \n",
       "1755       0.005965      0.002301      0.790904      0.992820  \n",
       "6497       0.007195      0.000917      0.454644      0.996774  \n",
       "27         0.006923      0.002991      0.836881      0.998978  \n",
       "1963       0.005691      0.002149      0.782404      0.998123  \n",
       "11123      0.007703      0.002553      0.733024      0.999206  \n",
       "\n",
       "[10888 rows x 16 columns]"
      ]
     },
     "execution_count": 11,
     "metadata": {},
     "output_type": "execute_result"
    }
   ],
   "source": [
    "dataset_features"
   ]
  },
  {
   "cell_type": "markdown",
   "id": "ef88925d",
   "metadata": {},
   "source": [
    "## First model Accuracy Check"
   ]
  },
  {
   "cell_type": "code",
   "execution_count": 12,
   "id": "f2514d9c",
   "metadata": {},
   "outputs": [
    {
     "data": {
      "text/html": [
       "<style>#sk-container-id-1 {color: black;background-color: white;}#sk-container-id-1 pre{padding: 0;}#sk-container-id-1 div.sk-toggleable {background-color: white;}#sk-container-id-1 label.sk-toggleable__label {cursor: pointer;display: block;width: 100%;margin-bottom: 0;padding: 0.3em;box-sizing: border-box;text-align: center;}#sk-container-id-1 label.sk-toggleable__label-arrow:before {content: \"▸\";float: left;margin-right: 0.25em;color: #696969;}#sk-container-id-1 label.sk-toggleable__label-arrow:hover:before {color: black;}#sk-container-id-1 div.sk-estimator:hover label.sk-toggleable__label-arrow:before {color: black;}#sk-container-id-1 div.sk-toggleable__content {max-height: 0;max-width: 0;overflow: hidden;text-align: left;background-color: #f0f8ff;}#sk-container-id-1 div.sk-toggleable__content pre {margin: 0.2em;color: black;border-radius: 0.25em;background-color: #f0f8ff;}#sk-container-id-1 input.sk-toggleable__control:checked~div.sk-toggleable__content {max-height: 200px;max-width: 100%;overflow: auto;}#sk-container-id-1 input.sk-toggleable__control:checked~label.sk-toggleable__label-arrow:before {content: \"▾\";}#sk-container-id-1 div.sk-estimator input.sk-toggleable__control:checked~label.sk-toggleable__label {background-color: #d4ebff;}#sk-container-id-1 div.sk-label input.sk-toggleable__control:checked~label.sk-toggleable__label {background-color: #d4ebff;}#sk-container-id-1 input.sk-hidden--visually {border: 0;clip: rect(1px 1px 1px 1px);clip: rect(1px, 1px, 1px, 1px);height: 1px;margin: -1px;overflow: hidden;padding: 0;position: absolute;width: 1px;}#sk-container-id-1 div.sk-estimator {font-family: monospace;background-color: #f0f8ff;border: 1px dotted black;border-radius: 0.25em;box-sizing: border-box;margin-bottom: 0.5em;}#sk-container-id-1 div.sk-estimator:hover {background-color: #d4ebff;}#sk-container-id-1 div.sk-parallel-item::after {content: \"\";width: 100%;border-bottom: 1px solid gray;flex-grow: 1;}#sk-container-id-1 div.sk-label:hover label.sk-toggleable__label {background-color: #d4ebff;}#sk-container-id-1 div.sk-serial::before {content: \"\";position: absolute;border-left: 1px solid gray;box-sizing: border-box;top: 0;bottom: 0;left: 50%;z-index: 0;}#sk-container-id-1 div.sk-serial {display: flex;flex-direction: column;align-items: center;background-color: white;padding-right: 0.2em;padding-left: 0.2em;position: relative;}#sk-container-id-1 div.sk-item {position: relative;z-index: 1;}#sk-container-id-1 div.sk-parallel {display: flex;align-items: stretch;justify-content: center;background-color: white;position: relative;}#sk-container-id-1 div.sk-item::before, #sk-container-id-1 div.sk-parallel-item::before {content: \"\";position: absolute;border-left: 1px solid gray;box-sizing: border-box;top: 0;bottom: 0;left: 50%;z-index: -1;}#sk-container-id-1 div.sk-parallel-item {display: flex;flex-direction: column;z-index: 1;position: relative;background-color: white;}#sk-container-id-1 div.sk-parallel-item:first-child::after {align-self: flex-end;width: 50%;}#sk-container-id-1 div.sk-parallel-item:last-child::after {align-self: flex-start;width: 50%;}#sk-container-id-1 div.sk-parallel-item:only-child::after {width: 0;}#sk-container-id-1 div.sk-dashed-wrapped {border: 1px dashed gray;margin: 0 0.4em 0.5em 0.4em;box-sizing: border-box;padding-bottom: 0.4em;background-color: white;}#sk-container-id-1 div.sk-label label {font-family: monospace;font-weight: bold;display: inline-block;line-height: 1.2em;}#sk-container-id-1 div.sk-label-container {text-align: center;}#sk-container-id-1 div.sk-container {/* jupyter's `normalize.less` sets `[hidden] { display: none; }` but bootstrap.min.css set `[hidden] { display: none !important; }` so we also need the `!important` here to be able to override the default hidden behavior on the sphinx rendered scikit-learn.org. See: https://github.com/scikit-learn/scikit-learn/issues/21755 */display: inline-block !important;position: relative;}#sk-container-id-1 div.sk-text-repr-fallback {display: none;}</style><div id=\"sk-container-id-1\" class=\"sk-top-container\"><div class=\"sk-text-repr-fallback\"><pre>LinearRegression()</pre><b>In a Jupyter environment, please rerun this cell to show the HTML representation or trust the notebook. <br />On GitHub, the HTML representation is unable to render, please try loading this page with nbviewer.org.</b></div><div class=\"sk-container\" hidden><div class=\"sk-item\"><div class=\"sk-estimator sk-toggleable\"><input class=\"sk-toggleable__control sk-hidden--visually\" id=\"sk-estimator-id-1\" type=\"checkbox\" checked><label for=\"sk-estimator-id-1\" class=\"sk-toggleable__label sk-toggleable__label-arrow\">LinearRegression</label><div class=\"sk-toggleable__content\"><pre>LinearRegression()</pre></div></div></div></div></div>"
      ],
      "text/plain": [
       "LinearRegression()"
      ]
     },
     "execution_count": 12,
     "metadata": {},
     "output_type": "execute_result"
    }
   ],
   "source": [
    "from sklearn.linear_model import LinearRegression\n",
    "#from sklear.tree import DecisionTreeRegressor\n",
    "#from sklearn.ensemble import RandomForestRegressor\n",
    "model=LinearRegression()\n",
    "model.fit(dataset_features, dataset_labels)"
   ]
  },
  {
   "cell_type": "code",
   "execution_count": 13,
   "id": "94478f26",
   "metadata": {},
   "outputs": [],
   "source": [
    "from sklearn.metrics import mean_squared_error\n",
    "dataset_predictions=model.predict(dataset_features)\n",
    "mse=mean_squared_error(dataset_labels, dataset_predictions)\n",
    "import numpy as np\n",
    "rmse=np.sqrt(mse)"
   ]
  },
  {
   "cell_type": "code",
   "execution_count": 14,
   "id": "b4761183",
   "metadata": {},
   "outputs": [
    {
     "data": {
      "text/plain": [
       "1.4844620873804812"
      ]
     },
     "execution_count": 14,
     "metadata": {},
     "output_type": "execute_result"
    }
   ],
   "source": [
    "rmse"
   ]
  },
  {
   "cell_type": "code",
   "execution_count": 15,
   "id": "7c75625b",
   "metadata": {},
   "outputs": [],
   "source": [
    "from sklearn.model_selection import cross_val_score\n",
    "scores=cross_val_score(model, dataset_features, dataset_labels, scoring=\"neg_mean_squared_error\",cv=10)\n",
    "rmse_scores=np.sqrt(-scores)"
   ]
  },
  {
   "cell_type": "code",
   "execution_count": 16,
   "id": "8e348e6b",
   "metadata": {},
   "outputs": [
    {
     "data": {
      "text/plain": [
       "array([1.49496261, 1.48651014, 1.48397383, 1.52893156, 1.48131005,\n",
       "       1.46657105, 1.4829833 , 1.46018839, 1.52436066, 1.46322573])"
      ]
     },
     "execution_count": 16,
     "metadata": {},
     "output_type": "execute_result"
    }
   ],
   "source": [
    "rmse_scores"
   ]
  },
  {
   "cell_type": "code",
   "execution_count": 17,
   "id": "d391e5eb",
   "metadata": {},
   "outputs": [],
   "source": [
    "def print_scores(scores):\n",
    "    print(\"scores: \",scores)\n",
    "    print(\"scores_mean: \",scores.mean())\n",
    "    print(\"std_deviation: \",scores.std())"
   ]
  },
  {
   "cell_type": "code",
   "execution_count": 18,
   "id": "5c5fbdc1",
   "metadata": {},
   "outputs": [
    {
     "name": "stdout",
     "output_type": "stream",
     "text": [
      "scores:  [1.49496261 1.48651014 1.48397383 1.52893156 1.48131005 1.46657105\n",
      " 1.4829833  1.46018839 1.52436066 1.46322573]\n",
      "scores_mean:  1.4873017332196647\n",
      "std_deviation:  0.022306711596469027\n"
     ]
    }
   ],
   "source": [
    "print_scores(rmse_scores)"
   ]
  },
  {
   "cell_type": "markdown",
   "id": "41239aa9",
   "metadata": {},
   "source": [
    "## Second Model Accuracy Check"
   ]
  },
  {
   "cell_type": "code",
   "execution_count": 19,
   "id": "0d69eea7",
   "metadata": {},
   "outputs": [
    {
     "data": {
      "text/html": [
       "<style>#sk-container-id-2 {color: black;background-color: white;}#sk-container-id-2 pre{padding: 0;}#sk-container-id-2 div.sk-toggleable {background-color: white;}#sk-container-id-2 label.sk-toggleable__label {cursor: pointer;display: block;width: 100%;margin-bottom: 0;padding: 0.3em;box-sizing: border-box;text-align: center;}#sk-container-id-2 label.sk-toggleable__label-arrow:before {content: \"▸\";float: left;margin-right: 0.25em;color: #696969;}#sk-container-id-2 label.sk-toggleable__label-arrow:hover:before {color: black;}#sk-container-id-2 div.sk-estimator:hover label.sk-toggleable__label-arrow:before {color: black;}#sk-container-id-2 div.sk-toggleable__content {max-height: 0;max-width: 0;overflow: hidden;text-align: left;background-color: #f0f8ff;}#sk-container-id-2 div.sk-toggleable__content pre {margin: 0.2em;color: black;border-radius: 0.25em;background-color: #f0f8ff;}#sk-container-id-2 input.sk-toggleable__control:checked~div.sk-toggleable__content {max-height: 200px;max-width: 100%;overflow: auto;}#sk-container-id-2 input.sk-toggleable__control:checked~label.sk-toggleable__label-arrow:before {content: \"▾\";}#sk-container-id-2 div.sk-estimator input.sk-toggleable__control:checked~label.sk-toggleable__label {background-color: #d4ebff;}#sk-container-id-2 div.sk-label input.sk-toggleable__control:checked~label.sk-toggleable__label {background-color: #d4ebff;}#sk-container-id-2 input.sk-hidden--visually {border: 0;clip: rect(1px 1px 1px 1px);clip: rect(1px, 1px, 1px, 1px);height: 1px;margin: -1px;overflow: hidden;padding: 0;position: absolute;width: 1px;}#sk-container-id-2 div.sk-estimator {font-family: monospace;background-color: #f0f8ff;border: 1px dotted black;border-radius: 0.25em;box-sizing: border-box;margin-bottom: 0.5em;}#sk-container-id-2 div.sk-estimator:hover {background-color: #d4ebff;}#sk-container-id-2 div.sk-parallel-item::after {content: \"\";width: 100%;border-bottom: 1px solid gray;flex-grow: 1;}#sk-container-id-2 div.sk-label:hover label.sk-toggleable__label {background-color: #d4ebff;}#sk-container-id-2 div.sk-serial::before {content: \"\";position: absolute;border-left: 1px solid gray;box-sizing: border-box;top: 0;bottom: 0;left: 50%;z-index: 0;}#sk-container-id-2 div.sk-serial {display: flex;flex-direction: column;align-items: center;background-color: white;padding-right: 0.2em;padding-left: 0.2em;position: relative;}#sk-container-id-2 div.sk-item {position: relative;z-index: 1;}#sk-container-id-2 div.sk-parallel {display: flex;align-items: stretch;justify-content: center;background-color: white;position: relative;}#sk-container-id-2 div.sk-item::before, #sk-container-id-2 div.sk-parallel-item::before {content: \"\";position: absolute;border-left: 1px solid gray;box-sizing: border-box;top: 0;bottom: 0;left: 50%;z-index: -1;}#sk-container-id-2 div.sk-parallel-item {display: flex;flex-direction: column;z-index: 1;position: relative;background-color: white;}#sk-container-id-2 div.sk-parallel-item:first-child::after {align-self: flex-end;width: 50%;}#sk-container-id-2 div.sk-parallel-item:last-child::after {align-self: flex-start;width: 50%;}#sk-container-id-2 div.sk-parallel-item:only-child::after {width: 0;}#sk-container-id-2 div.sk-dashed-wrapped {border: 1px dashed gray;margin: 0 0.4em 0.5em 0.4em;box-sizing: border-box;padding-bottom: 0.4em;background-color: white;}#sk-container-id-2 div.sk-label label {font-family: monospace;font-weight: bold;display: inline-block;line-height: 1.2em;}#sk-container-id-2 div.sk-label-container {text-align: center;}#sk-container-id-2 div.sk-container {/* jupyter's `normalize.less` sets `[hidden] { display: none; }` but bootstrap.min.css set `[hidden] { display: none !important; }` so we also need the `!important` here to be able to override the default hidden behavior on the sphinx rendered scikit-learn.org. See: https://github.com/scikit-learn/scikit-learn/issues/21755 */display: inline-block !important;position: relative;}#sk-container-id-2 div.sk-text-repr-fallback {display: none;}</style><div id=\"sk-container-id-2\" class=\"sk-top-container\"><div class=\"sk-text-repr-fallback\"><pre>DecisionTreeRegressor()</pre><b>In a Jupyter environment, please rerun this cell to show the HTML representation or trust the notebook. <br />On GitHub, the HTML representation is unable to render, please try loading this page with nbviewer.org.</b></div><div class=\"sk-container\" hidden><div class=\"sk-item\"><div class=\"sk-estimator sk-toggleable\"><input class=\"sk-toggleable__control sk-hidden--visually\" id=\"sk-estimator-id-2\" type=\"checkbox\" checked><label for=\"sk-estimator-id-2\" class=\"sk-toggleable__label sk-toggleable__label-arrow\">DecisionTreeRegressor</label><div class=\"sk-toggleable__content\"><pre>DecisionTreeRegressor()</pre></div></div></div></div></div>"
      ],
      "text/plain": [
       "DecisionTreeRegressor()"
      ]
     },
     "execution_count": 19,
     "metadata": {},
     "output_type": "execute_result"
    }
   ],
   "source": [
    "from sklearn.tree import DecisionTreeRegressor\n",
    "#from sklearn.ensemble import RandomForestRegressor\n",
    "model=DecisionTreeRegressor()\n",
    "model.fit(dataset_features, dataset_labels)"
   ]
  },
  {
   "cell_type": "code",
   "execution_count": 20,
   "id": "cc690e83",
   "metadata": {},
   "outputs": [
    {
     "name": "stdout",
     "output_type": "stream",
     "text": [
      "scores:  [0.92362125 0.95874497 0.9875255  1.04753855 0.97583286 0.87407304\n",
      " 0.80403025 0.83154077 0.78003582 0.8095251 ]\n",
      "scores_mean:  0.8992468106687218\n",
      "std_deviation:  0.08736612542461795\n"
     ]
    }
   ],
   "source": [
    "from sklearn.model_selection import cross_val_score\n",
    "scores=cross_val_score(model, dataset_features, dataset_labels, scoring=\"neg_mean_squared_error\",cv=10)\n",
    "rmse_scores=np.sqrt(-scores)\n",
    "def print_scores(scores):\n",
    "    print(\"scores: \",scores)\n",
    "    print(\"scores_mean: \",scores.mean())\n",
    "    print(\"std_deviation: \",scores.std())\n",
    "print_scores(rmse_scores)"
   ]
  },
  {
   "cell_type": "markdown",
   "id": "8ea99824",
   "metadata": {},
   "source": [
    "## Third Model Accuracy Check"
   ]
  },
  {
   "cell_type": "code",
   "execution_count": 21,
   "id": "334ceb13",
   "metadata": {},
   "outputs": [
    {
     "data": {
      "text/html": [
       "<style>#sk-container-id-3 {color: black;background-color: white;}#sk-container-id-3 pre{padding: 0;}#sk-container-id-3 div.sk-toggleable {background-color: white;}#sk-container-id-3 label.sk-toggleable__label {cursor: pointer;display: block;width: 100%;margin-bottom: 0;padding: 0.3em;box-sizing: border-box;text-align: center;}#sk-container-id-3 label.sk-toggleable__label-arrow:before {content: \"▸\";float: left;margin-right: 0.25em;color: #696969;}#sk-container-id-3 label.sk-toggleable__label-arrow:hover:before {color: black;}#sk-container-id-3 div.sk-estimator:hover label.sk-toggleable__label-arrow:before {color: black;}#sk-container-id-3 div.sk-toggleable__content {max-height: 0;max-width: 0;overflow: hidden;text-align: left;background-color: #f0f8ff;}#sk-container-id-3 div.sk-toggleable__content pre {margin: 0.2em;color: black;border-radius: 0.25em;background-color: #f0f8ff;}#sk-container-id-3 input.sk-toggleable__control:checked~div.sk-toggleable__content {max-height: 200px;max-width: 100%;overflow: auto;}#sk-container-id-3 input.sk-toggleable__control:checked~label.sk-toggleable__label-arrow:before {content: \"▾\";}#sk-container-id-3 div.sk-estimator input.sk-toggleable__control:checked~label.sk-toggleable__label {background-color: #d4ebff;}#sk-container-id-3 div.sk-label input.sk-toggleable__control:checked~label.sk-toggleable__label {background-color: #d4ebff;}#sk-container-id-3 input.sk-hidden--visually {border: 0;clip: rect(1px 1px 1px 1px);clip: rect(1px, 1px, 1px, 1px);height: 1px;margin: -1px;overflow: hidden;padding: 0;position: absolute;width: 1px;}#sk-container-id-3 div.sk-estimator {font-family: monospace;background-color: #f0f8ff;border: 1px dotted black;border-radius: 0.25em;box-sizing: border-box;margin-bottom: 0.5em;}#sk-container-id-3 div.sk-estimator:hover {background-color: #d4ebff;}#sk-container-id-3 div.sk-parallel-item::after {content: \"\";width: 100%;border-bottom: 1px solid gray;flex-grow: 1;}#sk-container-id-3 div.sk-label:hover label.sk-toggleable__label {background-color: #d4ebff;}#sk-container-id-3 div.sk-serial::before {content: \"\";position: absolute;border-left: 1px solid gray;box-sizing: border-box;top: 0;bottom: 0;left: 50%;z-index: 0;}#sk-container-id-3 div.sk-serial {display: flex;flex-direction: column;align-items: center;background-color: white;padding-right: 0.2em;padding-left: 0.2em;position: relative;}#sk-container-id-3 div.sk-item {position: relative;z-index: 1;}#sk-container-id-3 div.sk-parallel {display: flex;align-items: stretch;justify-content: center;background-color: white;position: relative;}#sk-container-id-3 div.sk-item::before, #sk-container-id-3 div.sk-parallel-item::before {content: \"\";position: absolute;border-left: 1px solid gray;box-sizing: border-box;top: 0;bottom: 0;left: 50%;z-index: -1;}#sk-container-id-3 div.sk-parallel-item {display: flex;flex-direction: column;z-index: 1;position: relative;background-color: white;}#sk-container-id-3 div.sk-parallel-item:first-child::after {align-self: flex-end;width: 50%;}#sk-container-id-3 div.sk-parallel-item:last-child::after {align-self: flex-start;width: 50%;}#sk-container-id-3 div.sk-parallel-item:only-child::after {width: 0;}#sk-container-id-3 div.sk-dashed-wrapped {border: 1px dashed gray;margin: 0 0.4em 0.5em 0.4em;box-sizing: border-box;padding-bottom: 0.4em;background-color: white;}#sk-container-id-3 div.sk-label label {font-family: monospace;font-weight: bold;display: inline-block;line-height: 1.2em;}#sk-container-id-3 div.sk-label-container {text-align: center;}#sk-container-id-3 div.sk-container {/* jupyter's `normalize.less` sets `[hidden] { display: none; }` but bootstrap.min.css set `[hidden] { display: none !important; }` so we also need the `!important` here to be able to override the default hidden behavior on the sphinx rendered scikit-learn.org. See: https://github.com/scikit-learn/scikit-learn/issues/21755 */display: inline-block !important;position: relative;}#sk-container-id-3 div.sk-text-repr-fallback {display: none;}</style><div id=\"sk-container-id-3\" class=\"sk-top-container\"><div class=\"sk-text-repr-fallback\"><pre>DecisionTreeRegressor()</pre><b>In a Jupyter environment, please rerun this cell to show the HTML representation or trust the notebook. <br />On GitHub, the HTML representation is unable to render, please try loading this page with nbviewer.org.</b></div><div class=\"sk-container\" hidden><div class=\"sk-item\"><div class=\"sk-estimator sk-toggleable\"><input class=\"sk-toggleable__control sk-hidden--visually\" id=\"sk-estimator-id-3\" type=\"checkbox\" checked><label for=\"sk-estimator-id-3\" class=\"sk-toggleable__label sk-toggleable__label-arrow\">DecisionTreeRegressor</label><div class=\"sk-toggleable__content\"><pre>DecisionTreeRegressor()</pre></div></div></div></div></div>"
      ],
      "text/plain": [
       "DecisionTreeRegressor()"
      ]
     },
     "execution_count": 21,
     "metadata": {},
     "output_type": "execute_result"
    }
   ],
   "source": [
    "from sklearn.ensemble import RandomForestRegressor\n",
    "model=DecisionTreeRegressor()\n",
    "model.fit(dataset_features, dataset_labels)"
   ]
  },
  {
   "cell_type": "code",
   "execution_count": 22,
   "id": "10445840",
   "metadata": {},
   "outputs": [
    {
     "name": "stdout",
     "output_type": "stream",
     "text": [
      "scores:  [0.93890505 1.00503782 0.93104797 1.07094528 0.96018058 0.90199249\n",
      " 0.80345901 0.82766668 0.79866617 0.76094948]\n",
      "scores_mean:  0.8998850520284689\n",
      "std_deviation:  0.09513895787275746\n"
     ]
    }
   ],
   "source": [
    "from sklearn.model_selection import cross_val_score\n",
    "scores=cross_val_score(model, dataset_features, dataset_labels, scoring=\"neg_mean_squared_error\",cv=10)\n",
    "rmse_scores=np.sqrt(-scores)\n",
    "def print_scores(scores):\n",
    "    print(\"scores: \",scores)\n",
    "    print(\"scores_mean: \",scores.mean())\n",
    "    print(\"std_deviation: \",scores.std())\n",
    "print_scores(rmse_scores)"
   ]
  },
  {
   "cell_type": "markdown",
   "id": "a110c728",
   "metadata": {},
   "source": [
    "From above three model results, the standard deviation of LinearRegression among all three models has least so this model is most accurate. Hence, lets select this one and save it"
   ]
  },
  {
   "cell_type": "code",
   "execution_count": 23,
   "id": "278b1c39",
   "metadata": {},
   "outputs": [
    {
     "data": {
      "text/plain": [
       "['AmiColo_Rumman.joblib']"
      ]
     },
     "execution_count": 23,
     "metadata": {},
     "output_type": "execute_result"
    }
   ],
   "source": [
    "from joblib import dump, load\n",
    "dump(model, \"AmiColo_Rumman.joblib\")"
   ]
  },
  {
   "cell_type": "markdown",
   "id": "c007ec91",
   "metadata": {},
   "source": [
    "## Lets do testing of model with remaining data"
   ]
  },
  {
   "cell_type": "code",
   "execution_count": 24,
   "id": "2e3283d5",
   "metadata": {},
   "outputs": [],
   "source": [
    "test_features=strat_test_set.drop(\"Custom\", axis=1)\n",
    "test_labels=strat_test_set[\"Custom\"].copy()\n",
    "model=LinearRegression()\n",
    "model.fit(dataset_features, dataset_labels)\n",
    "final_predictions=model.predict(test_features)"
   ]
  },
  {
   "cell_type": "code",
   "execution_count": 25,
   "id": "6a1c5d07",
   "metadata": {},
   "outputs": [
    {
     "name": "stdout",
     "output_type": "stream",
     "text": [
      "[0.76260938 2.04148904 1.64978156 ... 4.25070143 5.04319173 4.73000434] [1, 1, 1, 2, 1, 1, 1, 1, 1, 7, 4, 7, 2, 6, 7, 1, 4, 1, 2, 5, 4, 1, 2, 6, 1, 2, 1, 2, 7, 7, 3, 4, 4, 1, 6, 6, 1, 3, 2, 7, 1, 1, 2, 1, 6, 2, 6, 2, 3, 2, 4, 6, 1, 1, 1, 2, 1, 2, 1, 1, 5, 4, 2, 3, 7, 4, 2, 7, 7, 7, 2, 7, 3, 6, 2, 3, 1, 2, 1, 3, 3, 2, 1, 3, 3, 1, 3, 7, 6, 3, 6, 7, 7, 4, 6, 1, 2, 4, 1, 2, 2, 3, 1, 6, 3, 1, 1, 2, 6, 3, 7, 7, 3, 1, 1, 2, 1, 7, 4, 7, 1, 4, 1, 1, 4, 4, 5, 4, 7, 6, 2, 7, 7, 5, 3, 7, 1, 4, 1, 4, 1, 1, 7, 1, 7, 1, 3, 1, 1, 2, 3, 2, 2, 1, 1, 7, 5, 1, 6, 1, 1, 3, 6, 1, 3, 2, 1, 4, 7, 1, 1, 1, 5, 4, 2, 1, 2, 7, 3, 4, 1, 6, 7, 1, 1, 7, 2, 2, 3, 1, 2, 2, 6, 1, 6, 7, 1, 1, 6, 4, 1, 2, 3, 4, 7, 4, 7, 2, 6, 1, 2, 7, 1, 3, 4, 4, 6, 2, 1, 2, 7, 2, 2, 1, 4, 1, 2, 1, 7, 4, 7, 7, 7, 1, 1, 4, 4, 3, 2, 6, 7, 7, 7, 6, 1, 1, 6, 1, 7, 6, 2, 6, 7, 7, 4, 3, 2, 3, 4, 4, 3, 2, 1, 4, 2, 2, 3, 1, 7, 1, 3, 2, 1, 1, 2, 2, 6, 7, 5, 1, 3, 1, 1, 7, 1, 4, 3, 7, 1, 1, 3, 4, 2, 4, 5, 4, 1, 6, 4, 4, 1, 7, 7, 5, 1, 2, 1, 2, 1, 7, 1, 6, 1, 1, 6, 1, 1, 6, 2, 3, 3, 1, 2, 6, 2, 7, 6, 2, 7, 7, 1, 1, 3, 4, 3, 3, 2, 7, 1, 3, 6, 1, 1, 7, 3, 2, 3, 6, 3, 2, 7, 1, 3, 2, 2, 2, 2, 7, 7, 2, 2, 6, 2, 3, 7, 5, 2, 3, 1, 2, 5, 7, 1, 7, 2, 2, 3, 1, 2, 1, 2, 1, 1, 7, 4, 3, 4, 4, 6, 3, 6, 7, 6, 5, 1, 7, 2, 2, 4, 2, 3, 3, 1, 1, 3, 3, 4, 7, 6, 1, 3, 5, 6, 7, 7, 7, 7, 5, 2, 4, 1, 1, 3, 7, 1, 5, 2, 7, 7, 4, 1, 6, 5, 1, 2, 5, 1, 5, 3, 7, 6, 7, 6, 1, 7, 7, 1, 6, 7, 2, 4, 2, 2, 1, 1, 1, 3, 2, 4, 2, 1, 1, 3, 4, 3, 2, 4, 7, 2, 3, 1, 4, 2, 1, 3, 2, 2, 1, 4, 3, 3, 1, 3, 4, 3, 2, 1, 7, 7, 1, 3, 3, 7, 3, 1, 3, 4, 7, 4, 2, 6, 3, 7, 6, 1, 1, 1, 6, 2, 3, 2, 4, 3, 7, 1, 2, 3, 1, 1, 3, 4, 1, 4, 3, 3, 1, 6, 6, 7, 3, 4, 1, 1, 2, 6, 6, 3, 1, 1, 7, 1, 3, 6, 3, 6, 2, 3, 7, 2, 7, 3, 1, 1, 2, 6, 2, 2, 3, 3, 1, 3, 1, 3, 7, 2, 2, 7, 1, 2, 2, 6, 4, 4, 1, 1, 1, 3, 6, 7, 7, 3, 6, 6, 5, 3, 4, 6, 1, 6, 3, 3, 7, 2, 6, 7, 2, 4, 7, 5, 5, 1, 3, 1, 4, 3, 6, 2, 4, 1, 1, 2, 3, 1, 1, 1, 2, 2, 1, 2, 6, 1, 3, 6, 1, 1, 7, 2, 5, 1, 6, 7, 5, 2, 5, 3, 7, 7, 1, 4, 1, 2, 6, 4, 6, 5, 7, 1, 4, 1, 4, 7, 1, 4, 3, 1, 5, 7, 2, 2, 7, 2, 3, 6, 3, 5, 1, 2, 4, 3, 1, 5, 4, 2, 3, 2, 6, 4, 6, 1, 3, 6, 1, 7, 4, 6, 4, 6, 6, 1, 1, 1, 4, 4, 1, 4, 2, 2, 1, 3, 7, 1, 3, 3, 2, 7, 1, 2, 1, 4, 2, 3, 4, 2, 3, 3, 1, 4, 5, 4, 2, 3, 5, 4, 7, 1, 4, 2, 2, 2, 1, 1, 4, 7, 2, 7, 6, 2, 1, 3, 7, 1, 1, 4, 7, 2, 6, 4, 2, 1, 7, 4, 3, 3, 3, 1, 7, 3, 7, 1, 1, 3, 1, 3, 1, 2, 1, 2, 7, 1, 3, 3, 2, 3, 2, 1, 3, 6, 7, 4, 1, 1, 7, 4, 7, 1, 6, 1, 3, 4, 7, 1, 2, 2, 6, 6, 1, 2, 1, 6, 7, 7, 4, 1, 2, 4, 2, 3, 1, 1, 2, 2, 2, 6, 1, 1, 6, 6, 6, 2, 7, 4, 5, 4, 2, 1, 7, 7, 7, 6, 7, 2, 7, 3, 4, 4, 1, 7, 1, 7, 4, 2, 7, 6, 1, 1, 6, 3, 1, 4, 4, 6, 2, 1, 1, 1, 1, 7, 3, 2, 3, 1, 2, 7, 4, 1, 1, 5, 3, 1, 3, 1, 3, 1, 7, 3, 7, 6, 4, 1, 7, 4, 2, 6, 4, 1, 2, 1, 1, 2, 1, 2, 2, 6, 3, 6, 4, 4, 1, 1, 6, 1, 1, 6, 6, 2, 4, 6, 7, 3, 7, 1, 1, 1, 2, 1, 4, 1, 1, 2, 4, 1, 1, 1, 1, 1, 2, 1, 3, 1, 3, 3, 5, 1, 7, 2, 4, 1, 4, 5, 3, 4, 1, 1, 3, 1, 5, 6, 7, 1, 1, 1, 2, 1, 7, 2, 1, 4, 4, 3, 4, 4, 3, 2, 1, 1, 2, 1, 3, 6, 1, 7, 1, 7, 1, 2, 2, 3, 1, 1, 2, 3, 7, 2, 7, 5, 2, 7, 1, 3, 2, 2, 7, 4, 6, 7, 2, 1, 2, 7, 3, 4, 6, 6, 1, 1, 4, 1, 3, 2, 4, 2, 3, 1, 5, 1, 4, 7, 3, 2, 5, 6, 3, 1, 7, 3, 4, 2, 2, 7, 7, 1, 2, 4, 6, 2, 5, 1, 4, 1, 7, 7, 7, 2, 1, 1, 3, 2, 1, 4, 6, 1, 2, 1, 2, 6, 1, 5, 4, 1, 2, 5, 7, 4, 4, 1, 1, 6, 4, 3, 3, 2, 1, 2, 2, 2, 2, 3, 6, 2, 1, 1, 7, 2, 2, 6, 5, 2, 2, 7, 2, 3, 1, 4, 7, 1, 7, 1, 4, 6, 4, 7, 7, 3, 1, 5, 7, 2, 3, 1, 7, 7, 3, 1, 6, 1, 7, 2, 4, 7, 1, 4, 2, 7, 1, 7, 4, 4, 2, 3, 1, 4, 4, 2, 4, 1, 5, 1, 1, 6, 6, 2, 2, 2, 3, 6, 2, 1, 7, 6, 5, 4, 6, 1, 1, 2, 7, 5, 2, 1, 2, 1, 3, 5, 7, 7, 1, 1, 2, 2, 3, 6, 2, 1, 1, 5, 4, 3, 5, 4, 7, 7, 1, 2, 7, 6, 6, 4, 3, 6, 2, 1, 2, 7, 2, 6, 4, 3, 1, 1, 3, 7, 1, 1, 2, 3, 6, 6, 4, 2, 7, 3, 6, 1, 3, 4, 7, 6, 1, 3, 2, 4, 2, 4, 3, 3, 5, 1, 3, 2, 2, 4, 3, 7, 2, 2, 1, 4, 4, 3, 2, 7, 1, 7, 2, 4, 4, 3, 4, 7, 7, 4, 4, 7, 3, 2, 7, 4, 1, 4, 5, 2, 1, 1, 7, 1, 5, 1, 4, 2, 2, 6, 7, 7, 7, 4, 3, 1, 1, 4, 1, 6, 3, 3, 7, 7, 7, 6, 6, 2, 6, 7, 3, 1, 4, 3, 2, 2, 6, 4, 1, 3, 3, 1, 2, 4, 2, 3, 1, 7, 2, 3, 4, 2, 5, 2, 1, 2, 2, 6, 2, 1, 7, 7, 4, 2, 6, 1, 4, 1, 4, 1, 7, 1, 1, 7, 4, 2, 4, 1, 3, 4, 1, 7, 4, 1, 5, 1, 2, 7, 2, 4, 6, 6, 2, 1, 1, 3, 1, 1, 1, 6, 1, 4, 3, 1, 6, 6, 2, 2, 4, 1, 1, 7, 3, 1, 3, 3, 4, 4, 3, 4, 7, 2, 1, 4, 2, 1, 3, 2, 5, 3, 4, 4, 3, 3, 4, 1, 2, 1, 6, 3, 6, 1, 3, 7, 7, 4, 7, 1, 5, 1, 1, 1, 3, 2, 6, 2, 3, 1, 6, 1, 7, 4, 4, 7, 3, 3, 2, 5, 3, 2, 4, 3, 3, 2, 6, 1, 1, 1, 2, 7, 2, 2, 3, 1, 3, 2, 1, 2, 6, 1, 1, 1, 6, 2, 6, 6, 2, 2, 5, 7, 1, 2, 2, 2, 2, 1, 3, 2, 4, 1, 7, 2, 1, 3, 6, 7, 6, 7, 7, 5, 6, 2, 2, 7, 1, 7, 1, 1, 7, 6, 7, 5, 2, 2, 2, 7, 6, 4, 3, 2, 1, 2, 2, 1, 2, 7, 5, 3, 5, 7, 1, 6, 3, 7, 2, 7, 4, 5, 1, 2, 2, 2, 1, 3, 1, 1, 7, 3, 1, 6, 3, 1, 3, 1, 2, 1, 7, 2, 4, 7, 1, 4, 6, 2, 7, 2, 2, 1, 3, 3, 7, 1, 4, 1, 3, 3, 3, 1, 2, 4, 1, 7, 1, 1, 2, 2, 1, 6, 1, 2, 3, 7, 2, 1, 1, 3, 4, 3, 1, 1, 1, 6, 6, 1, 3, 1, 2, 3, 2, 2, 3, 2, 2, 1, 5, 7, 7, 7, 2, 4, 7, 5, 1, 7, 3, 2, 2, 2, 2, 2, 7, 3, 1, 3, 6, 6, 2, 1, 7, 6, 7, 2, 6, 1, 3, 6, 3, 1, 2, 1, 2, 2, 2, 3, 6, 3, 2, 7, 1, 3, 1, 2, 6, 1, 4, 1, 4, 1, 5, 1, 1, 1, 2, 4, 1, 1, 6, 2, 3, 2, 7, 7, 3, 1, 3, 2, 7, 6, 6, 1, 2, 3, 5, 7, 1, 1, 1, 4, 1, 1, 7, 3, 6, 4, 2, 2, 3, 6, 6, 2, 4, 7, 4, 7, 6, 1, 7, 3, 3, 1, 3, 1, 7, 7, 2, 7, 1, 3, 4, 7, 2, 1, 1, 3, 1, 1, 4, 3, 6, 2, 7, 2, 7, 7, 6, 7, 1, 5, 1, 2, 7, 4, 7, 5, 7, 3, 2, 1, 2, 6, 3, 4, 7, 1, 2, 2, 3, 4, 3, 1, 3, 7, 1, 1, 1, 1, 2, 7, 6, 4, 1, 2, 6, 2, 7, 2, 1, 4, 2, 1, 3, 6, 2, 7, 7, 6, 3, 3, 2, 1, 2, 2, 6, 2, 2, 3, 1, 2, 1, 4, 1, 3, 6, 2, 1, 7, 1, 2, 3, 2, 2, 4, 1, 2, 7, 6, 6, 6, 1, 1, 1, 5, 7, 4, 7, 1, 5, 7, 7, 4, 3, 3, 7, 6, 4, 3, 5, 3, 6, 7, 2, 7, 2, 1, 7, 5, 2, 2, 1, 1, 7, 4, 4, 2, 1, 6, 6, 2, 2, 1, 4, 2, 1, 6, 3, 6, 1, 5, 7, 6, 7, 2, 1, 1, 2, 1, 1, 6, 2, 1, 4, 4, 4, 2, 1, 1, 7, 4, 6, 6, 3, 1, 2, 3, 2, 3, 1, 1, 3, 2, 5, 7, 1, 1, 2, 2, 3, 7, 7, 4, 3, 4, 4, 3, 1, 4, 1, 2, 1, 2, 6, 7, 1, 7, 1, 3, 1, 1, 6, 1, 5, 3, 4, 3, 7, 1, 3, 4, 6, 1, 6, 1, 4, 4, 2, 6, 1, 2, 1, 7, 4, 4, 6, 2, 3, 5, 2, 6, 2, 3, 3, 7, 3, 1, 4, 3, 1, 1, 5, 1, 1, 4, 4, 1, 6, 1, 1, 4, 3, 1, 2, 3, 3, 2, 1, 1, 4, 2, 2, 2, 2, 3, 7, 2, 1, 6, 2, 1, 3, 2, 1, 2, 4, 4, 2, 1, 1, 7, 6, 7, 7, 7, 7, 7, 1, 4, 7, 1, 1, 2, 1, 2, 6, 6, 3, 7, 2, 3, 7, 1, 1, 7, 6, 4, 2, 1, 1, 2, 1, 1, 7, 1, 7, 3, 1, 1, 3, 7, 1, 1, 7, 1, 3, 1, 1, 7, 5, 7, 1, 2, 6, 2, 1, 1, 7, 7, 4, 7, 2, 2, 7, 7, 3, 1, 2, 2, 1, 2, 1, 2, 1, 2, 2, 3, 4, 3, 4, 1, 7, 7, 1, 4, 2, 5, 2, 7, 2, 2, 1, 5, 1, 1, 2, 2, 1, 4, 1, 7, 2, 3, 2, 1, 7, 2, 3, 5, 1, 4, 2, 1, 7, 3, 2, 1, 7, 2, 1, 1, 7, 1, 3, 2, 2, 6, 1, 5, 4, 3, 1, 4, 1, 3, 4, 2, 1, 5, 4, 1, 7, 4, 7, 4, 2, 6, 2, 3, 1, 6, 3, 7, 6, 4, 1, 7, 4, 4, 2, 5, 3, 3, 1, 2, 3, 3, 6, 2, 4, 7, 7, 2, 3, 1, 3, 7, 4, 1, 3, 2, 2, 1, 4, 7, 1, 2, 6, 3, 3, 5, 2, 1, 7, 7, 4, 2, 3, 3, 2, 4, 2, 1, 7, 2, 1, 4, 1, 7, 1, 2, 2, 4, 1, 2, 7, 1, 1, 7, 1, 4, 3, 4, 1, 1, 2, 3, 1, 4, 7, 7, 2, 1, 7, 4, 3, 4, 1, 6, 2, 6, 1, 4, 4, 3, 2, 7, 2, 1, 1, 6, 1, 1, 2, 1, 3, 4, 3, 4, 2, 2, 1, 2, 3, 1, 2, 2, 6, 3, 3, 3, 1, 7, 7, 1, 4, 6, 1, 5, 2, 7, 1, 1, 5, 7, 1, 1, 1, 3, 7, 1, 4, 2, 1, 5, 2, 3, 2, 2, 1, 1, 2, 2, 2, 7, 7, 7, 4, 3, 7, 7, 4, 3, 6, 6, 1, 2, 7, 7, 1, 3, 1, 6, 1, 2, 2, 2, 3, 2, 3, 6, 6, 1, 2, 5, 3, 2, 1, 1, 7, 2, 1, 3, 7, 1, 5, 2, 3, 6, 2, 7, 2, 1, 2, 3, 2, 7, 2, 1, 1, 1, 2, 1, 1, 4, 7, 1, 6, 4, 1, 7, 1, 6, 2, 4, 2, 7, 1, 4, 2, 4, 5, 7, 2, 4, 1, 1, 6, 6, 1, 1, 6, 4, 2, 3, 2, 4, 3, 1, 3, 5, 1, 3, 2, 3, 2, 1, 4, 5, 2, 7, 1, 2, 1, 6, 3, 3, 7, 7, 2, 6, 7, 1, 1, 6, 2, 3, 7, 7, 4, 4, 1, 1, 1, 1, 3, 1, 3, 1, 2, 6, 1, 7, 6, 3, 2, 1, 2, 3, 2, 2, 3, 5, 3, 7, 6, 3, 2, 7, 2, 7, 6, 6, 1, 6, 3, 4, 2, 6, 2, 7, 7, 1, 7, 3, 2, 3, 3, 7, 3, 2, 1, 6, 7, 4, 7, 1, 4, 2, 7, 4, 2, 1, 4, 6, 5, 4, 2, 4, 6, 4, 4, 7, 5, 7, 1, 6, 3, 1, 3, 3, 1, 7, 1, 3, 2, 6, 2, 6, 2, 4, 6, 6, 7, 6, 4, 2, 7, 2, 2, 1, 6, 2, 4, 2, 7, 1, 7, 7, 4, 1, 4, 5, 7, 7, 7, 1, 7, 1, 1, 1, 4, 2, 4, 7, 3, 1, 1, 7, 1, 1, 4, 3, 4, 7, 1, 4, 4, 1, 2, 1, 1, 2, 6, 1, 2, 6, 7, 1, 2, 1, 3, 2, 3, 3, 6, 4, 6, 7, 3, 4, 3, 4, 3, 4, 3, 7, 4, 6, 1, 6, 3, 7, 7, 7, 1, 1, 3, 1, 4, 1, 6, 3, 7, 1, 4, 2, 7, 3, 4, 5, 2, 3, 5, 1, 2, 1, 1, 1, 3, 7, 2, 3, 3, 1, 2, 1, 4, 1, 1, 1, 1, 4, 1, 1, 2, 3, 4, 1, 7, 3, 1, 1, 2, 1, 4, 1, 1, 7, 6, 7, 2, 2, 2, 1, 4, 4, 2, 1, 1, 5, 5, 6, 1, 6, 1, 2, 1, 5, 6, 3, 1, 6, 1, 1, 2, 2, 4, 7, 1, 3, 2, 3, 7, 4, 1, 3, 5, 1, 3, 3, 1, 4, 3, 2, 1, 2, 1, 7, 2, 3, 2, 2, 1, 1, 7, 1, 7, 3, 3, 3, 6, 4, 4]\n"
     ]
    }
   ],
   "source": [
    "print(final_predictions, list(test_labels))"
   ]
  },
  {
   "cell_type": "code",
   "execution_count": 26,
   "id": "9d89b2f8",
   "metadata": {},
   "outputs": [],
   "source": [
    "def convert_float_to_int(number):\n",
    "    integer_part=int(number)\n",
    "    if number>=0.5:\n",
    "        integer_part+=1\n",
    "    return integer_part\n",
    "final_predictions_integer=[convert_float_to_int(number) for number in final_predictions]\n",
    "final_predictions_class=[]\n",
    "for i in final_predictions_integer:\n",
    "    if i==7:\n",
    "        final_predictions_class.append('SE')\n",
    "    if i==6:\n",
    "        final_predictions_class.append('BA')\n",
    "    if i==5:\n",
    "        final_predictions_class.append('BO')\n",
    "    if i==4:\n",
    "        final_predictions_class.append('CA')\n",
    "    if i==3:\n",
    "        final_predictions_class.append('HO')\n",
    "    if i==2:\n",
    "        final_predictions_class.append('SI')\n",
    "    if i==1:\n",
    "        final_predictions_class.append('DE')"
   ]
  },
  {
   "cell_type": "code",
   "execution_count": 27,
   "id": "7ab30f1c",
   "metadata": {},
   "outputs": [],
   "source": [
    "test_labels_integer=list(test_labels)\n",
    "test_labels_class=[]\n",
    "for i in test_labels_integer:\n",
    "    if i==7:\n",
    "        test_labels_class.append('SE')\n",
    "    if i==6:\n",
    "        test_labels_class.append('BA')\n",
    "    if i==5:\n",
    "        test_labels_class.append('BO')\n",
    "    if i==4:\n",
    "        test_labels_class.append('CA')\n",
    "    if i==3:\n",
    "        test_labels_class.append('HO')\n",
    "    if i==2:\n",
    "        test_labels_class.append('SI')\n",
    "    if i==1:\n",
    "        test_labels_class.append('DE')"
   ]
  },
  {
   "cell_type": "code",
   "execution_count": 28,
   "id": "028971bb",
   "metadata": {},
   "outputs": [
    {
     "name": "stdout",
     "output_type": "stream",
     "text": [
      "['DE', 'HO', 'SI', 'SI', 'HO', 'SI', 'HO', 'BO', 'CA', 'BO', 'HO', 'HO', 'SE', 'SI', 'BO', 'SI', 'HO', 'CA', 'BO', 'DE', 'HO', 'BO', 'SI', 'HO', 'CA', 'HO', 'BA', 'BO', 'BO', 'BA', 'BO', 'DE', 'BO', 'CA', 'SI', 'CA', 'HO', 'BO', 'HO', 'SI', 'DE', 'BO', 'SI', 'BO', 'SE', 'BO', 'HO', 'BO', 'CA', 'SI', 'SI', 'HO', 'HO', 'DE', 'HO', 'HO', 'CA', 'BO', 'BO', 'HO', 'CA', 'BO', 'BO', 'CA', 'SE', 'BO', 'BO', 'HO', 'SE', 'CA', 'BO', 'HO', 'BO', 'HO', 'DE', 'BO', 'BO', 'HO', 'SI', 'BO', 'BO', 'CA', 'BO', 'BO', 'BO', 'BO', 'BO', 'BO', 'BO', 'BO', 'CA', 'BO', 'BO', 'SI', 'HO', 'BO', 'CA', 'SI', 'BO', 'BO', 'HO', 'DE', 'SI', 'HO', 'CA', 'BA', 'BA', 'BO', 'DE', 'SI', 'SI', 'BO', 'BO', 'BO', 'BO', 'SI', 'BO', 'CA', 'BO', 'BO', 'BO', 'BO', 'BO', 'BO', 'HO', 'BO', 'BO', 'BO', 'BO', 'BA', 'CA', 'BO', 'SI', 'BO', 'SI', 'SI', 'BO', 'DE', 'BA', 'BO', 'SI', 'SI', 'CA', 'CA', 'BO', 'HO', 'CA', 'SI', 'BO', 'CA', 'SI', 'BO', 'SI', 'DE', 'BO', 'BO', 'HO', 'HO', 'SI', 'BO', 'BA', 'DE', 'DE', 'BO', 'CA', 'HO', 'HO', 'BO', 'BO', 'BO', 'BO', 'HO', 'BO', 'BO', 'HO', 'HO', 'CA', 'SI', 'HO', 'BO', 'DE', 'BA', 'BO', 'BO', 'HO', 'BO', 'BA', 'HO', 'DE', 'BO', 'BO', 'DE', 'BO', 'BO', 'BO', 'CA', 'BO', 'BA', 'SI', 'BO', 'CA', 'BO', 'SE', 'HO', 'BO', 'BO', 'BO', 'BO', 'BO', 'SI', 'BO', 'SE', 'BA', 'HO', 'CA', 'BO', 'SI', 'SI', 'SI', 'CA', 'BO', 'BO', 'CA', 'BO', 'SI', 'HO', 'BO', 'BO', 'BO', 'SI', 'BO', 'BO', 'BA', 'BO', 'BO', 'HO', 'DE', 'BO', 'BA', 'BO', 'CA', 'BO', 'BO', 'BO', 'BO', 'BO', 'BA', 'BO', 'BO', 'HO', 'CA', 'CA', 'HO', 'BO', 'HO', 'HO', 'CA', 'SI', 'BO', 'SI', 'CA', 'BO', 'SI', 'SI', 'BA', 'BO', 'BA', 'CA', 'HO', 'CA', 'HO', 'SI', 'CA', 'HO', 'BO', 'CA', 'SE', 'HO', 'BO', 'BO', 'SI', 'BO', 'BO', 'BO', 'SI', 'BO', 'BO', 'BO', 'BO', 'BO', 'CA', 'CA', 'CA', 'BO', 'CA', 'SI', 'BO', 'SI', 'HO', 'CA', 'HO', 'BO', 'CA', 'SI', 'HO', 'BO', 'HO', 'BO', 'CA', 'CA', 'BO', 'CA', 'HO', 'CA', 'CA', 'BO', 'CA', 'BO', 'CA', 'CA', 'HO', 'BO', 'BO', 'HO', 'HO', 'BO', 'BO', 'DE', 'BO', 'BO', 'BO', 'CA', 'BO', 'DE', 'BO', 'BO', 'HO', 'SI', 'BO', 'BO', 'BO', 'HO', 'HO', 'BO', 'BO', 'BO', 'BO', 'CA', 'HO', 'CA', 'HO', 'HO', 'BO', 'BO', 'CA', 'BO', 'HO', 'SI', 'CA', 'HO', 'HO', 'HO', 'SI', 'HO', 'HO', 'BO', 'BO', 'BO', 'CA', 'BO', 'BO', 'BO', 'CA', 'BA', 'CA', 'BO', 'HO', 'BO', 'CA', 'CA', 'BO', 'SI', 'CA', 'BO', 'SI', 'CA', 'CA', 'BO', 'BA', 'BO', 'SI', 'BO', 'BO', 'BO', 'BO', 'BO', 'BO', 'BO', 'BO', 'DE', 'BO', 'HO', 'HO', 'BO', 'BO', 'HO', 'BO', 'HO', 'CA', 'CA', 'BO', 'SI', 'BO', 'BO', 'CA', 'BO', 'DE', 'BO', 'BO', 'BO', 'SE', 'BO', 'SI', 'BO', 'BA', 'BO', 'BO', 'CA', 'BO', 'BO', 'HO', 'DE', 'DE', 'DE', 'BO', 'HO', 'BO', 'CA', 'SI', 'DE', 'BO', 'BO', 'BO', 'SI', 'BO', 'BO', 'HO', 'BO', 'SI', 'BO', 'CA', 'CA', 'BO', 'CA', 'HO', 'CA', 'CA', 'BO', 'CA', 'SI', 'BO', 'BO', 'BO', 'SI', 'BO', 'BO', 'CA', 'CA', 'CA', 'BO', 'CA', 'SI', 'CA', 'CA', 'BO', 'BO', 'BO', 'CA', 'BA', 'BO', 'SI', 'BO', 'HO', 'CA', 'CA', 'BO', 'CA', 'BO', 'HO', 'BO', 'SI', 'CA', 'CA', 'BO', 'HO', 'BO', 'CA', 'CA', 'SI', 'BO', 'BO', 'BA', 'BO', 'BO', 'SI', 'HO', 'BO', 'BO', 'BO', 'SI', 'SI', 'BO', 'SI', 'BO', 'BO', 'CA', 'BO', 'BA', 'CA', 'SI', 'BO', 'BO', 'HO', 'CA', 'HO', 'BO', 'BO', 'HO', 'BO', 'CA', 'HO', 'BO', 'SI', 'BO', 'CA', 'BO', 'BA', 'BA', 'HO', 'HO', 'CA', 'BO', 'HO', 'BA', 'SI', 'CA', 'CA', 'BO', 'BO', 'BO', 'CA', 'BO', 'BO', 'BO', 'CA', 'BO', 'BO', 'DE', 'CA', 'CA', 'CA', 'BA', 'BO', 'BA', 'HO', 'BO', 'BO', 'BO', 'BO', 'SI', 'CA', 'HO', 'BO', 'CA', 'BO', 'HO', 'BO', 'SI', 'HO', 'HO', 'CA', 'SI', 'HO', 'BO', 'BO', 'BO', 'CA', 'BO', 'BO', 'HO', 'SI', 'BO', 'HO', 'BO', 'HO', 'BO', 'CA', 'BO', 'BO', 'CA', 'BO', 'BO', 'BO', 'BO', 'HO', 'CA', 'BO', 'BO', 'BO', 'BO', 'CA', 'SI', 'BO', 'SI', 'BO', 'BA', 'DE', 'BO', 'BO', 'BO', 'SE', 'HO', 'BA', 'BO', 'SI', 'CA', 'BO', 'BO', 'BO', 'SI', 'CA', 'BO', 'BO', 'SI', 'BO', 'BO', 'BO', 'CA', 'CA', 'BO', 'BO', 'BO', 'SI', 'CA', 'BO', 'HO', 'BO', 'BO', 'BO', 'BO', 'BO', 'BO', 'DE', 'DE', 'SI', 'BO', 'BO', 'DE', 'BO', 'CA', 'BO', 'HO', 'BO', 'BA', 'BO', 'BO', 'HO', 'BO', 'HO', 'SI', 'SI', 'BO', 'HO', 'CA', 'BA', 'HO', 'HO', 'CA', 'CA', 'BO', 'BO', 'BO', 'HO', 'CA', 'BO', 'BO', 'BO', 'BO', 'HO', 'HO', 'SI', 'BO', 'CA', 'BO', 'BO', 'HO', 'CA', 'BO', 'SI', 'SI', 'BO', 'BA', 'BO', 'BO', 'BO', 'BO', 'HO', 'BA', 'BO', 'CA', 'CA', 'BO', 'HO', 'BO', 'CA', 'BA', 'SI', 'DE', 'BO', 'SI', 'BO', 'CA', 'SI', 'SI', 'BA', 'SI', 'CA', 'CA', 'CA', 'BO', 'HO', 'HO', 'BO', 'BO', 'BO', 'BO', 'HO', 'DE', 'BO', 'BO', 'SE', 'HO', 'BO', 'HO', 'BO', 'BO', 'BO', 'SI', 'HO', 'HO', 'BO', 'CA', 'SI', 'DE', 'BO', 'BO', 'BA', 'BO', 'SI', 'SI', 'BO', 'BO', 'BO', 'SI', 'CA', 'HO', 'HO', 'BO', 'SI', 'SI', 'CA', 'BO', 'BO', 'BO', 'BO', 'BO', 'BO', 'BO', 'HO', 'DE', 'BO', 'BO', 'BO', 'BO', 'BO', 'BO', 'SE', 'CA', 'BA', 'BO', 'SI', 'BA', 'BO', 'BO', 'HO', 'BO', 'BO', 'SI', 'BO', 'BO', 'SI', 'BO', 'BO', 'BO', 'HO', 'DE', 'SI', 'HO', 'SE', 'BO', 'CA', 'CA', 'HO', 'CA', 'BO', 'SI', 'BO', 'CA', 'HO', 'CA', 'SI', 'HO', 'BO', 'BO', 'BO', 'BO', 'SI', 'BO', 'BO', 'HO', 'BO', 'CA', 'DE', 'SI', 'SI', 'BO', 'SI', 'HO', 'BO', 'BO', 'BO', 'BO', 'BO', 'HO', 'HO', 'BO', 'SI', 'SI', 'BO', 'BO', 'HO', 'CA', 'BO', 'BO', 'BO', 'BO', 'SI', 'CA', 'SI', 'BO', 'HO', 'BA', 'BO', 'HO', 'SI', 'SI', 'HO', 'SI', 'BO', 'SI', 'CA', 'BO', 'BO', 'HO', 'SE', 'SI', 'BO', 'DE', 'BO', 'BO', 'CA', 'BO', 'HO', 'HO', 'CA', 'HO', 'BO', 'CA', 'BO', 'SI', 'DE', 'DE', 'HO', 'HO', 'BO', 'CA', 'SI', 'BO', 'BO', 'BO', 'BO', 'BO', 'CA', 'SI', 'SI', 'SI', 'HO', 'HO', 'BO', 'BO', 'BO', 'DE', 'BO', 'SI', 'HO', 'SI', 'BO', 'HO', 'SI', 'BO', 'CA', 'BO', 'CA', 'BO', 'CA', 'CA', 'BO', 'HO', 'BO', 'CA', 'CA', 'BA', 'BO', 'BO', 'BO', 'CA', 'SI', 'HO', 'CA', 'BO', 'BO', 'BO', 'HO', 'SI', 'BO', 'CA', 'CA', 'BA', 'BO', 'BO', 'BO', 'SI', 'BO', 'HO', 'BO', 'BO', 'BO', 'BO', 'BO', 'BO', 'BO', 'BO', 'BO', 'HO', 'SE', 'BO', 'SI', 'BO', 'BO', 'BO', 'BO', 'CA', 'BO', 'SI', 'BA', 'BO', 'BO', 'CA', 'SI', 'BO', 'SI', 'BO', 'BO', 'SI', 'HO', 'SI', 'BO', 'BO', 'SI', 'BO', 'BO', 'HO', 'BO', 'BA', 'BO', 'BO', 'SI', 'BO', 'BO', 'BO', 'CA', 'HO', 'SI', 'BO', 'BA', 'HO', 'BO', 'BO', 'SI', 'CA', 'SI', 'HO', 'HO', 'BO', 'BO', 'HO', 'SI', 'BO', 'HO', 'CA', 'BO', 'BO', 'SI', 'BA', 'HO', 'CA', 'BO', 'BO', 'BO', 'CA', 'BO', 'SI', 'BO', 'BO', 'SI', 'BO', 'DE', 'BO', 'SE', 'BO', 'BO', 'HO', 'BO', 'HO', 'BO', 'BO', 'HO', 'BO', 'HO', 'BO', 'BO', 'BO', 'BO', 'DE', 'CA', 'DE', 'BO', 'BO', 'SI', 'BO', 'HO', 'CA', 'DE', 'SI', 'BO', 'BO', 'CA', 'CA', 'SI', 'BO', 'BO', 'CA', 'SI', 'BO', 'BO', 'BO', 'BO', 'BO', 'HO', 'HO', 'BO', 'CA', 'HO', 'SI', 'HO', 'BO', 'BO', 'BO', 'BO', 'HO', 'SI', 'SI', 'SE', 'CA', 'BO', 'HO', 'SI', 'HO', 'BO', 'BO', 'CA', 'BO', 'BO', 'BA', 'CA', 'SI', 'SI', 'BO', 'BO', 'BO', 'BO', 'CA', 'BO', 'HO', 'HO', 'HO', 'BA', 'BO', 'BO', 'BO', 'CA', 'SI', 'SI', 'BO', 'BO', 'HO', 'HO', 'BO', 'BO', 'BO', 'BO', 'BO', 'BO', 'BO', 'SI', 'CA', 'BO', 'CA', 'CA', 'SI', 'CA', 'HO', 'CA', 'HO', 'BO', 'BO', 'CA', 'BO', 'HO', 'CA', 'CA', 'BO', 'BO', 'BO', 'HO', 'CA', 'BO', 'BO', 'BO', 'BO', 'HO', 'BA', 'SI', 'BA', 'BO', 'CA', 'BO', 'BO', 'CA', 'BO', 'BO', 'BA', 'CA', 'BO', 'BA', 'BO', 'BO', 'BO', 'HO', 'SI', 'HO', 'SE', 'HO', 'BO', 'HO', 'BO', 'SE', 'HO', 'BO', 'BO', 'BA', 'SE', 'CA', 'CA', 'SI', 'BO', 'SI', 'BO', 'CA', 'CA', 'BO', 'BO', 'BA', 'BO', 'BO', 'CA', 'BO', 'BA', 'BO', 'SI', 'BO', 'BO', 'CA', 'CA', 'BO', 'BO', 'HO', 'BO', 'BO', 'HO', 'BO', 'BA', 'HO', 'CA', 'SI', 'BO', 'CA', 'CA', 'BO', 'HO', 'BO', 'HO', 'SI', 'DE', 'HO', 'HO', 'BO', 'HO', 'BO', 'BO', 'BO', 'HO', 'CA', 'SI', 'BO', 'SI', 'BO', 'HO', 'CA', 'CA', 'CA', 'BA', 'BO', 'CA', 'BO', 'BO', 'BO', 'SI', 'BO', 'BO', 'BO', 'SI', 'BO', 'BO', 'HO', 'BO', 'BO', 'CA', 'BO', 'HO', 'CA', 'CA', 'SI', 'DE', 'HO', 'BO', 'HO', 'BO', 'HO', 'HO', 'BO', 'BO', 'HO', 'SE', 'BO', 'HO', 'SI', 'SE', 'BO', 'CA', 'BO', 'BO', 'BO', 'BO', 'CA', 'BO', 'BO', 'BO', 'SI', 'BO', 'HO', 'SI', 'BO', 'HO', 'BO', 'BO', 'BO', 'BO', 'CA', 'BO', 'BO', 'SI', 'CA', 'BO', 'CA', 'BA', 'HO', 'BO', 'BO', 'CA', 'BO', 'BA', 'DE', 'BO', 'DE', 'HO', 'BO', 'DE', 'BO', 'BO', 'HO', 'BO', 'CA', 'SE', 'BO', 'BO', 'BO', 'BO', 'CA', 'SI', 'BO', 'BO', 'BO', 'BO', 'CA', 'BO', 'BO', 'HO', 'SI', 'BO', 'HO', 'BO', 'CA', 'DE', 'BO', 'CA', 'CA', 'BO', 'BO', 'HO', 'CA', 'BO', 'BO', 'BO', 'BO', 'CA', 'BO', 'BA', 'HO', 'HO', 'BA', 'SI', 'CA', 'HO', 'CA', 'CA', 'BO', 'BO', 'BO', 'HO', 'CA', 'BO', 'BA', 'BO', 'BO', 'BO', 'BO', 'BO', 'HO', 'SI', 'BO', 'SI', 'BO', 'SI', 'CA', 'BO', 'BO', 'BO', 'BO', 'SI', 'HO', 'BA', 'BO', 'BO', 'BO', 'HO', 'HO', 'HO', 'CA', 'HO', 'HO', 'CA', 'BO', 'BO', 'BO', 'HO', 'BO', 'BO', 'BO', 'HO', 'BA', 'BO', 'BO', 'SI', 'HO', 'SI', 'HO', 'CA', 'HO', 'BO', 'CA', 'HO', 'BO', 'BO', 'SI', 'CA', 'SI', 'BA', 'HO', 'SE', 'HO', 'BO', 'BO', 'HO', 'BO', 'CA', 'SI', 'BA', 'BO', 'HO', 'SI', 'BO', 'BO', 'BO', 'SI', 'CA', 'CA', 'BO', 'CA', 'CA', 'BO', 'SI', 'SE', 'SI', 'SI', 'BO', 'BO', 'DE', 'BO', 'HO', 'BO', 'CA', 'BO', 'CA', 'HO', 'HO', 'BO', 'BO', 'CA', 'HO', 'HO', 'HO', 'BO', 'BO', 'HO', 'BO', 'HO', 'BA', 'CA', 'HO', 'SI', 'BO', 'BO', 'CA', 'HO', 'BO', 'BO', 'CA', 'CA', 'HO', 'BO', 'BO', 'BO', 'HO', 'BA', 'BO', 'HO', 'CA', 'HO', 'HO', 'BA', 'BO', 'DE', 'BO', 'BO', 'BO', 'HO', 'HO', 'BO', 'BO', 'BO', 'HO', 'CA', 'BO', 'BO', 'CA', 'HO', 'CA', 'BA', 'HO', 'BO', 'BO', 'BO', 'BO', 'SI', 'CA', 'DE', 'SI', 'BO', 'SI', 'BO', 'SI', 'BO', 'SI', 'BO', 'SI', 'DE', 'HO', 'CA', 'SI', 'SI', 'BO', 'HO', 'CA', 'CA', 'BO', 'BO', 'CA', 'HO', 'BO', 'CA', 'BO', 'BO', 'BO', 'SI', 'HO', 'CA', 'BO', 'BA', 'SI', 'DE', 'CA', 'BO', 'HO', 'BO', 'CA', 'BO', 'CA', 'HO', 'HO', 'BO', 'BO', 'BO', 'CA', 'BA', 'BO', 'BO', 'BO', 'BO', 'BA', 'BO', 'CA', 'SI', 'CA', 'HO', 'BA', 'HO', 'BO', 'SI', 'BO', 'BO', 'BO', 'BO', 'SI', 'SI', 'CA', 'HO', 'BO', 'CA', 'BO', 'BA', 'BA', 'BO', 'BA', 'BA', 'BO', 'BO', 'HO', 'CA', 'BO', 'BO', 'BO', 'BO', 'BO', 'BA', 'BO', 'SI', 'SI', 'BO', 'BO', 'CA', 'BO', 'BO', 'HO', 'CA', 'HO', 'HO', 'BO', 'BO', 'SI', 'CA', 'BO', 'HO', 'HO', 'DE', 'SI', 'SI', 'BO', 'BO', 'BO', 'DE', 'HO', 'BO', 'CA', 'BO', 'CA', 'HO', 'BO', 'HO', 'BO', 'BO', 'SI', 'BO', 'CA', 'BO', 'BO', 'BO', 'CA', 'SI', 'CA', 'CA', 'BO', 'CA', 'BA', 'BO', 'SI', 'BO', 'CA', 'BO', 'BO', 'CA', 'HO', 'CA', 'BO', 'BO', 'CA', 'BO', 'SI', 'HO', 'BO', 'CA', 'CA', 'BO', 'SI', 'HO', 'DE', 'BO', 'BO', 'BO', 'BO', 'BO', 'BO', 'BA', 'BO', 'CA', 'BO', 'BO', 'BO', 'BO', 'CA', 'BO', 'BO', 'CA', 'BO', 'HO', 'BO', 'CA', 'HO', 'BA', 'BO', 'HO', 'SE', 'SI', 'SI', 'BO', 'BO', 'BO', 'BO', 'SI', 'BO', 'CA', 'BO', 'BO', 'BO', 'HO', 'CA', 'BO', 'CA', 'BO', 'HO', 'BO', 'CA', 'BO', 'BO', 'CA', 'HO', 'DE', 'HO', 'CA', 'DE', 'BO', 'BA', 'HO', 'BO', 'BO', 'BO', 'SE', 'SI', 'BA', 'BO', 'BO', 'BO', 'BO', 'CA', 'BO', 'BO', 'BO', 'BO', 'SI', 'DE', 'CA', 'HO', 'BO', 'BO', 'SI', 'BO', 'HO', 'SI', 'CA', 'BO', 'BO', 'BO', 'CA', 'BO', 'CA', 'CA', 'SI', 'BO', 'SI', 'CA', 'HO', 'BO', 'BO', 'HO', 'BO', 'SI', 'CA', 'CA', 'SI', 'BO', 'SI', 'BO', 'CA', 'BO', 'BO', 'SE', 'CA', 'BO', 'BO', 'SI', 'BO', 'DE', 'BO', 'BO', 'BO', 'SI', 'HO', 'SI', 'BO', 'BO', 'BO', 'BO', 'BO', 'BO', 'BO', 'HO', 'BO', 'SI', 'CA', 'BO', 'BO', 'BO', 'HO', 'BO', 'CA', 'HO', 'CA', 'BO', 'SI', 'HO', 'BO', 'BO', 'HO', 'BO', 'SI', 'SI', 'BO', 'BO', 'SI', 'CA', 'CA', 'BO', 'HO', 'SI', 'SI', 'BO', 'BO', 'SI', 'HO', 'CA', 'CA', 'BA', 'CA', 'DE', 'BO', 'CA', 'CA', 'BO', 'BO', 'SI', 'HO', 'BO', 'BA', 'CA', 'HO', 'CA', 'BO', 'BO', 'BA', 'BO', 'BO', 'BO', 'CA', 'HO', 'BO', 'BO', 'SI', 'CA', 'CA', 'CA', 'BO', 'BO', 'CA', 'BO', 'HO', 'BO', 'BO', 'SI', 'HO', 'BA', 'BO', 'BO', 'HO', 'HO', 'SI', 'CA', 'SI', 'HO', 'BO', 'SI', 'CA', 'CA', 'CA', 'SI', 'BO', 'BO', 'SI', 'SI', 'BO', 'SI', 'BO', 'HO', 'BO', 'BO', 'BO', 'SI', 'CA', 'BO', 'HO', 'DE', 'CA', 'BO', 'BO', 'BA', 'SI', 'HO', 'BO', 'BO', 'BO', 'DE', 'SI', 'SI', 'SI', 'HO', 'DE', 'SI', 'SI', 'HO', 'HO', 'CA', 'BO', 'CA', 'BO', 'DE', 'BO', 'BO', 'DE', 'CA', 'HO', 'BO', 'BO', 'CA', 'CA', 'SI', 'BO', 'BO', 'SI', 'HO', 'HO', 'SI', 'CA', 'BO', 'SI', 'CA', 'CA', 'SI', 'BO', 'CA', 'BO', 'BO', 'SI', 'SI', 'CA', 'BO', 'CA', 'HO', 'CA', 'SI', 'SI', 'HO', 'BO', 'HO', 'CA', 'HO', 'HO', 'BO', 'BO', 'BO', 'CA', 'HO', 'BO', 'HO', 'BO', 'BO', 'HO', 'SI', 'BO', 'BO', 'DE', 'BO', 'BO', 'BA', 'BO', 'DE', 'CA', 'BO', 'CA', 'SI', 'BO', 'CA', 'BO', 'BO', 'BO', 'DE', 'BO', 'BO', 'BO', 'CA', 'BO', 'BO', 'CA', 'HO', 'DE', 'BO', 'BO', 'BO', 'CA', 'BA', 'CA', 'BO', 'BO', 'CA', 'DE', 'CA', 'BO', 'BO', 'HO', 'BO', 'HO', 'HO', 'HO', 'BO', 'BO', 'SI', 'CA', 'BO', 'CA', 'CA', 'BO', 'SI', 'HO', 'BO', 'BO', 'BO', 'SI', 'CA', 'CA', 'HO', 'BO', 'BO', 'DE', 'BO', 'CA', 'HO', 'BA', 'SI', 'BO', 'CA', 'HO', 'BO', 'BO', 'CA', 'HO', 'BO', 'SI', 'BO', 'SI', 'BO', 'BO', 'BO', 'HO', 'HO', 'CA', 'SI', 'BO', 'BO', 'BA', 'HO', 'HO', 'SE', 'BO', 'BO', 'BO', 'DE', 'BO', 'BO', 'BO', 'CA', 'BO', 'BO', 'BO', 'BA', 'SI', 'SI', 'CA', 'SI', 'SI', 'HO', 'SI', 'BO', 'BO', 'CA', 'BO', 'HO', 'CA', 'SI', 'HO', 'BO', 'HO', 'HO', 'BA', 'BO', 'CA', 'BO', 'BO', 'CA', 'CA', 'BO', 'CA', 'BO', 'BO', 'SI', 'BO', 'SI', 'HO', 'SI', 'SI', 'BO', 'BO', 'DE', 'HO', 'CA', 'SE', 'DE', 'BO', 'BO', 'BO', 'SI', 'BO', 'BO', 'HO', 'DE', 'SI', 'BO', 'CA', 'HO', 'BO', 'BO', 'BO', 'CA', 'CA', 'BO', 'BA', 'BO', 'BO', 'BO', 'CA', 'HO', 'HO', 'BA', 'DE', 'BO', 'HO', 'BO', 'BO', 'CA', 'SE', 'CA', 'HO', 'BO', 'BO', 'BO', 'CA', 'BO', 'CA', 'HO', 'CA', 'BO', 'CA', 'CA', 'BO', 'SI', 'CA', 'BA', 'CA', 'BO', 'HO', 'BO', 'SI', 'DE', 'CA', 'CA', 'BO', 'BO', 'HO', 'HO', 'CA', 'CA', 'CA', 'DE', 'BO', 'BA', 'SI', 'BO', 'BO', 'SI', 'BA', 'CA', 'BO', 'BO', 'BO', 'HO', 'BO', 'SI', 'BO', 'BO', 'CA', 'CA', 'SI', 'BO', 'CA', 'BO', 'BO', 'HO', 'BO', 'BO', 'CA', 'CA', 'BA', 'BO', 'CA', 'BO', 'BO', 'SI', 'CA', 'HO', 'BO', 'DE', 'DE', 'BO', 'CA', 'SI', 'CA', 'HO', 'SI', 'SI', 'BO', 'CA', 'BO', 'BA', 'BO', 'CA', 'BO', 'BA', 'SI', 'SI', 'BA', 'HO', 'CA', 'BA', 'BA', 'BO', 'BO', 'SI', 'DE', 'HO', 'HO', 'CA', 'SI', 'BO', 'HO', 'BO', 'BO', 'SI', 'BO', 'BO', 'CA', 'HO', 'HO', 'HO', 'BO', 'DE', 'CA', 'BO', 'BO', 'BO', 'BO', 'BO', 'BO', 'SI', 'BO', 'CA', 'BO', 'CA', 'CA', 'HO', 'BO', 'BO', 'BO', 'HO', 'BO', 'SI', 'BO', 'BA', 'BO', 'BO', 'CA', 'BO', 'BO', 'BA', 'BO', 'CA', 'CA', 'BO', 'BO', 'BO', 'SI', 'BO', 'CA', 'BO', 'BO', 'HO', 'CA', 'BO', 'BO', 'BO', 'BO', 'HO', 'BO', 'CA', 'BO', 'BO', 'BO', 'BO', 'DE', 'BO', 'BO', 'CA', 'BO', 'BO', 'SI', 'CA', 'HO', 'BO', 'BO', 'BO', 'BO', 'BO', 'BO', 'BO', 'BA', 'BO', 'BO', 'SI', 'BO', 'BO', 'CA', 'DE', 'BO', 'SI', 'BO', 'SI', 'CA', 'CA', 'BO', 'BO', 'SI', 'BO', 'CA', 'BO', 'BO', 'BO', 'CA', 'CA', 'HO', 'BO', 'BO', 'BO', 'BO', 'BO', 'SI', 'SI', 'BO', 'SI', 'DE', 'BO', 'BO', 'BO', 'BO', 'CA', 'BO', 'BO', 'HO', 'HO', 'HO', 'BO', 'HO', 'HO', 'BO', 'BO', 'SI', 'SI', 'BO', 'BO', 'BO', 'CA', 'BO', 'BO', 'BO', 'BO', 'BO', 'CA', 'CA', 'BO', 'BO', 'BO', 'CA', 'BO', 'BO', 'BO', 'DE', 'BO', 'BO', 'BO', 'BO', 'CA', 'HO', 'SI', 'CA', 'SI', 'BO', 'DE', 'BO', 'BO', 'SE', 'BO', 'BO', 'BO', 'CA', 'BO', 'BO', 'BO', 'CA', 'BO', 'SI', 'CA', 'SI', 'SI', 'BO', 'BO', 'HO', 'CA', 'BO', 'SI', 'CA', 'SI', 'BO', 'HO', 'SI', 'DE', 'BO', 'HO', 'HO', 'BO', 'BO', 'BO', 'BO', 'SI', 'DE', 'SI', 'SI', 'BO', 'HO', 'CA', 'BO', 'BO', 'SE', 'CA', 'HO', 'HO', 'DE', 'BO', 'BO', 'BO', 'DE', 'SI', 'BO', 'CA', 'BO', 'SI', 'BO', 'DE', 'HO', 'DE', 'BO', 'BO', 'CA', 'BO', 'SI', 'HO', 'DE', 'CA', 'BO', 'BO', 'CA', 'HO', 'BO', 'BA', 'BO', 'SI', 'BO', 'BO', 'HO', 'BO', 'CA', 'BO', 'BO', 'CA', 'SI', 'HO', 'HO', 'BO', 'HO', 'CA', 'BO', 'HO', 'SI', 'CA', 'BO', 'SI', 'BO', 'BO', 'CA', 'BO', 'BO', 'BA', 'BO'] ['DE', 'DE', 'DE', 'SI', 'DE', 'DE', 'DE', 'DE', 'DE', 'SE', 'CA', 'SE', 'SI', 'BA', 'SE', 'DE', 'CA', 'DE', 'SI', 'BO', 'CA', 'DE', 'SI', 'BA', 'DE', 'SI', 'DE', 'SI', 'SE', 'SE', 'HO', 'CA', 'CA', 'DE', 'BA', 'BA', 'DE', 'HO', 'SI', 'SE', 'DE', 'DE', 'SI', 'DE', 'BA', 'SI', 'BA', 'SI', 'HO', 'SI', 'CA', 'BA', 'DE', 'DE', 'DE', 'SI', 'DE', 'SI', 'DE', 'DE', 'BO', 'CA', 'SI', 'HO', 'SE', 'CA', 'SI', 'SE', 'SE', 'SE', 'SI', 'SE', 'HO', 'BA', 'SI', 'HO', 'DE', 'SI', 'DE', 'HO', 'HO', 'SI', 'DE', 'HO', 'HO', 'DE', 'HO', 'SE', 'BA', 'HO', 'BA', 'SE', 'SE', 'CA', 'BA', 'DE', 'SI', 'CA', 'DE', 'SI', 'SI', 'HO', 'DE', 'BA', 'HO', 'DE', 'DE', 'SI', 'BA', 'HO', 'SE', 'SE', 'HO', 'DE', 'DE', 'SI', 'DE', 'SE', 'CA', 'SE', 'DE', 'CA', 'DE', 'DE', 'CA', 'CA', 'BO', 'CA', 'SE', 'BA', 'SI', 'SE', 'SE', 'BO', 'HO', 'SE', 'DE', 'CA', 'DE', 'CA', 'DE', 'DE', 'SE', 'DE', 'SE', 'DE', 'HO', 'DE', 'DE', 'SI', 'HO', 'SI', 'SI', 'DE', 'DE', 'SE', 'BO', 'DE', 'BA', 'DE', 'DE', 'HO', 'BA', 'DE', 'HO', 'SI', 'DE', 'CA', 'SE', 'DE', 'DE', 'DE', 'BO', 'CA', 'SI', 'DE', 'SI', 'SE', 'HO', 'CA', 'DE', 'BA', 'SE', 'DE', 'DE', 'SE', 'SI', 'SI', 'HO', 'DE', 'SI', 'SI', 'BA', 'DE', 'BA', 'SE', 'DE', 'DE', 'BA', 'CA', 'DE', 'SI', 'HO', 'CA', 'SE', 'CA', 'SE', 'SI', 'BA', 'DE', 'SI', 'SE', 'DE', 'HO', 'CA', 'CA', 'BA', 'SI', 'DE', 'SI', 'SE', 'SI', 'SI', 'DE', 'CA', 'DE', 'SI', 'DE', 'SE', 'CA', 'SE', 'SE', 'SE', 'DE', 'DE', 'CA', 'CA', 'HO', 'SI', 'BA', 'SE', 'SE', 'SE', 'BA', 'DE', 'DE', 'BA', 'DE', 'SE', 'BA', 'SI', 'BA', 'SE', 'SE', 'CA', 'HO', 'SI', 'HO', 'CA', 'CA', 'HO', 'SI', 'DE', 'CA', 'SI', 'SI', 'HO', 'DE', 'SE', 'DE', 'HO', 'SI', 'DE', 'DE', 'SI', 'SI', 'BA', 'SE', 'BO', 'DE', 'HO', 'DE', 'DE', 'SE', 'DE', 'CA', 'HO', 'SE', 'DE', 'DE', 'HO', 'CA', 'SI', 'CA', 'BO', 'CA', 'DE', 'BA', 'CA', 'CA', 'DE', 'SE', 'SE', 'BO', 'DE', 'SI', 'DE', 'SI', 'DE', 'SE', 'DE', 'BA', 'DE', 'DE', 'BA', 'DE', 'DE', 'BA', 'SI', 'HO', 'HO', 'DE', 'SI', 'BA', 'SI', 'SE', 'BA', 'SI', 'SE', 'SE', 'DE', 'DE', 'HO', 'CA', 'HO', 'HO', 'SI', 'SE', 'DE', 'HO', 'BA', 'DE', 'DE', 'SE', 'HO', 'SI', 'HO', 'BA', 'HO', 'SI', 'SE', 'DE', 'HO', 'SI', 'SI', 'SI', 'SI', 'SE', 'SE', 'SI', 'SI', 'BA', 'SI', 'HO', 'SE', 'BO', 'SI', 'HO', 'DE', 'SI', 'BO', 'SE', 'DE', 'SE', 'SI', 'SI', 'HO', 'DE', 'SI', 'DE', 'SI', 'DE', 'DE', 'SE', 'CA', 'HO', 'CA', 'CA', 'BA', 'HO', 'BA', 'SE', 'BA', 'BO', 'DE', 'SE', 'SI', 'SI', 'CA', 'SI', 'HO', 'HO', 'DE', 'DE', 'HO', 'HO', 'CA', 'SE', 'BA', 'DE', 'HO', 'BO', 'BA', 'SE', 'SE', 'SE', 'SE', 'BO', 'SI', 'CA', 'DE', 'DE', 'HO', 'SE', 'DE', 'BO', 'SI', 'SE', 'SE', 'CA', 'DE', 'BA', 'BO', 'DE', 'SI', 'BO', 'DE', 'BO', 'HO', 'SE', 'BA', 'SE', 'BA', 'DE', 'SE', 'SE', 'DE', 'BA', 'SE', 'SI', 'CA', 'SI', 'SI', 'DE', 'DE', 'DE', 'HO', 'SI', 'CA', 'SI', 'DE', 'DE', 'HO', 'CA', 'HO', 'SI', 'CA', 'SE', 'SI', 'HO', 'DE', 'CA', 'SI', 'DE', 'HO', 'SI', 'SI', 'DE', 'CA', 'HO', 'HO', 'DE', 'HO', 'CA', 'HO', 'SI', 'DE', 'SE', 'SE', 'DE', 'HO', 'HO', 'SE', 'HO', 'DE', 'HO', 'CA', 'SE', 'CA', 'SI', 'BA', 'HO', 'SE', 'BA', 'DE', 'DE', 'DE', 'BA', 'SI', 'HO', 'SI', 'CA', 'HO', 'SE', 'DE', 'SI', 'HO', 'DE', 'DE', 'HO', 'CA', 'DE', 'CA', 'HO', 'HO', 'DE', 'BA', 'BA', 'SE', 'HO', 'CA', 'DE', 'DE', 'SI', 'BA', 'BA', 'HO', 'DE', 'DE', 'SE', 'DE', 'HO', 'BA', 'HO', 'BA', 'SI', 'HO', 'SE', 'SI', 'SE', 'HO', 'DE', 'DE', 'SI', 'BA', 'SI', 'SI', 'HO', 'HO', 'DE', 'HO', 'DE', 'HO', 'SE', 'SI', 'SI', 'SE', 'DE', 'SI', 'SI', 'BA', 'CA', 'CA', 'DE', 'DE', 'DE', 'HO', 'BA', 'SE', 'SE', 'HO', 'BA', 'BA', 'BO', 'HO', 'CA', 'BA', 'DE', 'BA', 'HO', 'HO', 'SE', 'SI', 'BA', 'SE', 'SI', 'CA', 'SE', 'BO', 'BO', 'DE', 'HO', 'DE', 'CA', 'HO', 'BA', 'SI', 'CA', 'DE', 'DE', 'SI', 'HO', 'DE', 'DE', 'DE', 'SI', 'SI', 'DE', 'SI', 'BA', 'DE', 'HO', 'BA', 'DE', 'DE', 'SE', 'SI', 'BO', 'DE', 'BA', 'SE', 'BO', 'SI', 'BO', 'HO', 'SE', 'SE', 'DE', 'CA', 'DE', 'SI', 'BA', 'CA', 'BA', 'BO', 'SE', 'DE', 'CA', 'DE', 'CA', 'SE', 'DE', 'CA', 'HO', 'DE', 'BO', 'SE', 'SI', 'SI', 'SE', 'SI', 'HO', 'BA', 'HO', 'BO', 'DE', 'SI', 'CA', 'HO', 'DE', 'BO', 'CA', 'SI', 'HO', 'SI', 'BA', 'CA', 'BA', 'DE', 'HO', 'BA', 'DE', 'SE', 'CA', 'BA', 'CA', 'BA', 'BA', 'DE', 'DE', 'DE', 'CA', 'CA', 'DE', 'CA', 'SI', 'SI', 'DE', 'HO', 'SE', 'DE', 'HO', 'HO', 'SI', 'SE', 'DE', 'SI', 'DE', 'CA', 'SI', 'HO', 'CA', 'SI', 'HO', 'HO', 'DE', 'CA', 'BO', 'CA', 'SI', 'HO', 'BO', 'CA', 'SE', 'DE', 'CA', 'SI', 'SI', 'SI', 'DE', 'DE', 'CA', 'SE', 'SI', 'SE', 'BA', 'SI', 'DE', 'HO', 'SE', 'DE', 'DE', 'CA', 'SE', 'SI', 'BA', 'CA', 'SI', 'DE', 'SE', 'CA', 'HO', 'HO', 'HO', 'DE', 'SE', 'HO', 'SE', 'DE', 'DE', 'HO', 'DE', 'HO', 'DE', 'SI', 'DE', 'SI', 'SE', 'DE', 'HO', 'HO', 'SI', 'HO', 'SI', 'DE', 'HO', 'BA', 'SE', 'CA', 'DE', 'DE', 'SE', 'CA', 'SE', 'DE', 'BA', 'DE', 'HO', 'CA', 'SE', 'DE', 'SI', 'SI', 'BA', 'BA', 'DE', 'SI', 'DE', 'BA', 'SE', 'SE', 'CA', 'DE', 'SI', 'CA', 'SI', 'HO', 'DE', 'DE', 'SI', 'SI', 'SI', 'BA', 'DE', 'DE', 'BA', 'BA', 'BA', 'SI', 'SE', 'CA', 'BO', 'CA', 'SI', 'DE', 'SE', 'SE', 'SE', 'BA', 'SE', 'SI', 'SE', 'HO', 'CA', 'CA', 'DE', 'SE', 'DE', 'SE', 'CA', 'SI', 'SE', 'BA', 'DE', 'DE', 'BA', 'HO', 'DE', 'CA', 'CA', 'BA', 'SI', 'DE', 'DE', 'DE', 'DE', 'SE', 'HO', 'SI', 'HO', 'DE', 'SI', 'SE', 'CA', 'DE', 'DE', 'BO', 'HO', 'DE', 'HO', 'DE', 'HO', 'DE', 'SE', 'HO', 'SE', 'BA', 'CA', 'DE', 'SE', 'CA', 'SI', 'BA', 'CA', 'DE', 'SI', 'DE', 'DE', 'SI', 'DE', 'SI', 'SI', 'BA', 'HO', 'BA', 'CA', 'CA', 'DE', 'DE', 'BA', 'DE', 'DE', 'BA', 'BA', 'SI', 'CA', 'BA', 'SE', 'HO', 'SE', 'DE', 'DE', 'DE', 'SI', 'DE', 'CA', 'DE', 'DE', 'SI', 'CA', 'DE', 'DE', 'DE', 'DE', 'DE', 'SI', 'DE', 'HO', 'DE', 'HO', 'HO', 'BO', 'DE', 'SE', 'SI', 'CA', 'DE', 'CA', 'BO', 'HO', 'CA', 'DE', 'DE', 'HO', 'DE', 'BO', 'BA', 'SE', 'DE', 'DE', 'DE', 'SI', 'DE', 'SE', 'SI', 'DE', 'CA', 'CA', 'HO', 'CA', 'CA', 'HO', 'SI', 'DE', 'DE', 'SI', 'DE', 'HO', 'BA', 'DE', 'SE', 'DE', 'SE', 'DE', 'SI', 'SI', 'HO', 'DE', 'DE', 'SI', 'HO', 'SE', 'SI', 'SE', 'BO', 'SI', 'SE', 'DE', 'HO', 'SI', 'SI', 'SE', 'CA', 'BA', 'SE', 'SI', 'DE', 'SI', 'SE', 'HO', 'CA', 'BA', 'BA', 'DE', 'DE', 'CA', 'DE', 'HO', 'SI', 'CA', 'SI', 'HO', 'DE', 'BO', 'DE', 'CA', 'SE', 'HO', 'SI', 'BO', 'BA', 'HO', 'DE', 'SE', 'HO', 'CA', 'SI', 'SI', 'SE', 'SE', 'DE', 'SI', 'CA', 'BA', 'SI', 'BO', 'DE', 'CA', 'DE', 'SE', 'SE', 'SE', 'SI', 'DE', 'DE', 'HO', 'SI', 'DE', 'CA', 'BA', 'DE', 'SI', 'DE', 'SI', 'BA', 'DE', 'BO', 'CA', 'DE', 'SI', 'BO', 'SE', 'CA', 'CA', 'DE', 'DE', 'BA', 'CA', 'HO', 'HO', 'SI', 'DE', 'SI', 'SI', 'SI', 'SI', 'HO', 'BA', 'SI', 'DE', 'DE', 'SE', 'SI', 'SI', 'BA', 'BO', 'SI', 'SI', 'SE', 'SI', 'HO', 'DE', 'CA', 'SE', 'DE', 'SE', 'DE', 'CA', 'BA', 'CA', 'SE', 'SE', 'HO', 'DE', 'BO', 'SE', 'SI', 'HO', 'DE', 'SE', 'SE', 'HO', 'DE', 'BA', 'DE', 'SE', 'SI', 'CA', 'SE', 'DE', 'CA', 'SI', 'SE', 'DE', 'SE', 'CA', 'CA', 'SI', 'HO', 'DE', 'CA', 'CA', 'SI', 'CA', 'DE', 'BO', 'DE', 'DE', 'BA', 'BA', 'SI', 'SI', 'SI', 'HO', 'BA', 'SI', 'DE', 'SE', 'BA', 'BO', 'CA', 'BA', 'DE', 'DE', 'SI', 'SE', 'BO', 'SI', 'DE', 'SI', 'DE', 'HO', 'BO', 'SE', 'SE', 'DE', 'DE', 'SI', 'SI', 'HO', 'BA', 'SI', 'DE', 'DE', 'BO', 'CA', 'HO', 'BO', 'CA', 'SE', 'SE', 'DE', 'SI', 'SE', 'BA', 'BA', 'CA', 'HO', 'BA', 'SI', 'DE', 'SI', 'SE', 'SI', 'BA', 'CA', 'HO', 'DE', 'DE', 'HO', 'SE', 'DE', 'DE', 'SI', 'HO', 'BA', 'BA', 'CA', 'SI', 'SE', 'HO', 'BA', 'DE', 'HO', 'CA', 'SE', 'BA', 'DE', 'HO', 'SI', 'CA', 'SI', 'CA', 'HO', 'HO', 'BO', 'DE', 'HO', 'SI', 'SI', 'CA', 'HO', 'SE', 'SI', 'SI', 'DE', 'CA', 'CA', 'HO', 'SI', 'SE', 'DE', 'SE', 'SI', 'CA', 'CA', 'HO', 'CA', 'SE', 'SE', 'CA', 'CA', 'SE', 'HO', 'SI', 'SE', 'CA', 'DE', 'CA', 'BO', 'SI', 'DE', 'DE', 'SE', 'DE', 'BO', 'DE', 'CA', 'SI', 'SI', 'BA', 'SE', 'SE', 'SE', 'CA', 'HO', 'DE', 'DE', 'CA', 'DE', 'BA', 'HO', 'HO', 'SE', 'SE', 'SE', 'BA', 'BA', 'SI', 'BA', 'SE', 'HO', 'DE', 'CA', 'HO', 'SI', 'SI', 'BA', 'CA', 'DE', 'HO', 'HO', 'DE', 'SI', 'CA', 'SI', 'HO', 'DE', 'SE', 'SI', 'HO', 'CA', 'SI', 'BO', 'SI', 'DE', 'SI', 'SI', 'BA', 'SI', 'DE', 'SE', 'SE', 'CA', 'SI', 'BA', 'DE', 'CA', 'DE', 'CA', 'DE', 'SE', 'DE', 'DE', 'SE', 'CA', 'SI', 'CA', 'DE', 'HO', 'CA', 'DE', 'SE', 'CA', 'DE', 'BO', 'DE', 'SI', 'SE', 'SI', 'CA', 'BA', 'BA', 'SI', 'DE', 'DE', 'HO', 'DE', 'DE', 'DE', 'BA', 'DE', 'CA', 'HO', 'DE', 'BA', 'BA', 'SI', 'SI', 'CA', 'DE', 'DE', 'SE', 'HO', 'DE', 'HO', 'HO', 'CA', 'CA', 'HO', 'CA', 'SE', 'SI', 'DE', 'CA', 'SI', 'DE', 'HO', 'SI', 'BO', 'HO', 'CA', 'CA', 'HO', 'HO', 'CA', 'DE', 'SI', 'DE', 'BA', 'HO', 'BA', 'DE', 'HO', 'SE', 'SE', 'CA', 'SE', 'DE', 'BO', 'DE', 'DE', 'DE', 'HO', 'SI', 'BA', 'SI', 'HO', 'DE', 'BA', 'DE', 'SE', 'CA', 'CA', 'SE', 'HO', 'HO', 'SI', 'BO', 'HO', 'SI', 'CA', 'HO', 'HO', 'SI', 'BA', 'DE', 'DE', 'DE', 'SI', 'SE', 'SI', 'SI', 'HO', 'DE', 'HO', 'SI', 'DE', 'SI', 'BA', 'DE', 'DE', 'DE', 'BA', 'SI', 'BA', 'BA', 'SI', 'SI', 'BO', 'SE', 'DE', 'SI', 'SI', 'SI', 'SI', 'DE', 'HO', 'SI', 'CA', 'DE', 'SE', 'SI', 'DE', 'HO', 'BA', 'SE', 'BA', 'SE', 'SE', 'BO', 'BA', 'SI', 'SI', 'SE', 'DE', 'SE', 'DE', 'DE', 'SE', 'BA', 'SE', 'BO', 'SI', 'SI', 'SI', 'SE', 'BA', 'CA', 'HO', 'SI', 'DE', 'SI', 'SI', 'DE', 'SI', 'SE', 'BO', 'HO', 'BO', 'SE', 'DE', 'BA', 'HO', 'SE', 'SI', 'SE', 'CA', 'BO', 'DE', 'SI', 'SI', 'SI', 'DE', 'HO', 'DE', 'DE', 'SE', 'HO', 'DE', 'BA', 'HO', 'DE', 'HO', 'DE', 'SI', 'DE', 'SE', 'SI', 'CA', 'SE', 'DE', 'CA', 'BA', 'SI', 'SE', 'SI', 'SI', 'DE', 'HO', 'HO', 'SE', 'DE', 'CA', 'DE', 'HO', 'HO', 'HO', 'DE', 'SI', 'CA', 'DE', 'SE', 'DE', 'DE', 'SI', 'SI', 'DE', 'BA', 'DE', 'SI', 'HO', 'SE', 'SI', 'DE', 'DE', 'HO', 'CA', 'HO', 'DE', 'DE', 'DE', 'BA', 'BA', 'DE', 'HO', 'DE', 'SI', 'HO', 'SI', 'SI', 'HO', 'SI', 'SI', 'DE', 'BO', 'SE', 'SE', 'SE', 'SI', 'CA', 'SE', 'BO', 'DE', 'SE', 'HO', 'SI', 'SI', 'SI', 'SI', 'SI', 'SE', 'HO', 'DE', 'HO', 'BA', 'BA', 'SI', 'DE', 'SE', 'BA', 'SE', 'SI', 'BA', 'DE', 'HO', 'BA', 'HO', 'DE', 'SI', 'DE', 'SI', 'SI', 'SI', 'HO', 'BA', 'HO', 'SI', 'SE', 'DE', 'HO', 'DE', 'SI', 'BA', 'DE', 'CA', 'DE', 'CA', 'DE', 'BO', 'DE', 'DE', 'DE', 'SI', 'CA', 'DE', 'DE', 'BA', 'SI', 'HO', 'SI', 'SE', 'SE', 'HO', 'DE', 'HO', 'SI', 'SE', 'BA', 'BA', 'DE', 'SI', 'HO', 'BO', 'SE', 'DE', 'DE', 'DE', 'CA', 'DE', 'DE', 'SE', 'HO', 'BA', 'CA', 'SI', 'SI', 'HO', 'BA', 'BA', 'SI', 'CA', 'SE', 'CA', 'SE', 'BA', 'DE', 'SE', 'HO', 'HO', 'DE', 'HO', 'DE', 'SE', 'SE', 'SI', 'SE', 'DE', 'HO', 'CA', 'SE', 'SI', 'DE', 'DE', 'HO', 'DE', 'DE', 'CA', 'HO', 'BA', 'SI', 'SE', 'SI', 'SE', 'SE', 'BA', 'SE', 'DE', 'BO', 'DE', 'SI', 'SE', 'CA', 'SE', 'BO', 'SE', 'HO', 'SI', 'DE', 'SI', 'BA', 'HO', 'CA', 'SE', 'DE', 'SI', 'SI', 'HO', 'CA', 'HO', 'DE', 'HO', 'SE', 'DE', 'DE', 'DE', 'DE', 'SI', 'SE', 'BA', 'CA', 'DE', 'SI', 'BA', 'SI', 'SE', 'SI', 'DE', 'CA', 'SI', 'DE', 'HO', 'BA', 'SI', 'SE', 'SE', 'BA', 'HO', 'HO', 'SI', 'DE', 'SI', 'SI', 'BA', 'SI', 'SI', 'HO', 'DE', 'SI', 'DE', 'CA', 'DE', 'HO', 'BA', 'SI', 'DE', 'SE', 'DE', 'SI', 'HO', 'SI', 'SI', 'CA', 'DE', 'SI', 'SE', 'BA', 'BA', 'BA', 'DE', 'DE', 'DE', 'BO', 'SE', 'CA', 'SE', 'DE', 'BO', 'SE', 'SE', 'CA', 'HO', 'HO', 'SE', 'BA', 'CA', 'HO', 'BO', 'HO', 'BA', 'SE', 'SI', 'SE', 'SI', 'DE', 'SE', 'BO', 'SI', 'SI', 'DE', 'DE', 'SE', 'CA', 'CA', 'SI', 'DE', 'BA', 'BA', 'SI', 'SI', 'DE', 'CA', 'SI', 'DE', 'BA', 'HO', 'BA', 'DE', 'BO', 'SE', 'BA', 'SE', 'SI', 'DE', 'DE', 'SI', 'DE', 'DE', 'BA', 'SI', 'DE', 'CA', 'CA', 'CA', 'SI', 'DE', 'DE', 'SE', 'CA', 'BA', 'BA', 'HO', 'DE', 'SI', 'HO', 'SI', 'HO', 'DE', 'DE', 'HO', 'SI', 'BO', 'SE', 'DE', 'DE', 'SI', 'SI', 'HO', 'SE', 'SE', 'CA', 'HO', 'CA', 'CA', 'HO', 'DE', 'CA', 'DE', 'SI', 'DE', 'SI', 'BA', 'SE', 'DE', 'SE', 'DE', 'HO', 'DE', 'DE', 'BA', 'DE', 'BO', 'HO', 'CA', 'HO', 'SE', 'DE', 'HO', 'CA', 'BA', 'DE', 'BA', 'DE', 'CA', 'CA', 'SI', 'BA', 'DE', 'SI', 'DE', 'SE', 'CA', 'CA', 'BA', 'SI', 'HO', 'BO', 'SI', 'BA', 'SI', 'HO', 'HO', 'SE', 'HO', 'DE', 'CA', 'HO', 'DE', 'DE', 'BO', 'DE', 'DE', 'CA', 'CA', 'DE', 'BA', 'DE', 'DE', 'CA', 'HO', 'DE', 'SI', 'HO', 'HO', 'SI', 'DE', 'DE', 'CA', 'SI', 'SI', 'SI', 'SI', 'HO', 'SE', 'SI', 'DE', 'BA', 'SI', 'DE', 'HO', 'SI', 'DE', 'SI', 'CA', 'CA', 'SI', 'DE', 'DE', 'SE', 'BA', 'SE', 'SE', 'SE', 'SE', 'SE', 'DE', 'CA', 'SE', 'DE', 'DE', 'SI', 'DE', 'SI', 'BA', 'BA', 'HO', 'SE', 'SI', 'HO', 'SE', 'DE', 'DE', 'SE', 'BA', 'CA', 'SI', 'DE', 'DE', 'SI', 'DE', 'DE', 'SE', 'DE', 'SE', 'HO', 'DE', 'DE', 'HO', 'SE', 'DE', 'DE', 'SE', 'DE', 'HO', 'DE', 'DE', 'SE', 'BO', 'SE', 'DE', 'SI', 'BA', 'SI', 'DE', 'DE', 'SE', 'SE', 'CA', 'SE', 'SI', 'SI', 'SE', 'SE', 'HO', 'DE', 'SI', 'SI', 'DE', 'SI', 'DE', 'SI', 'DE', 'SI', 'SI', 'HO', 'CA', 'HO', 'CA', 'DE', 'SE', 'SE', 'DE', 'CA', 'SI', 'BO', 'SI', 'SE', 'SI', 'SI', 'DE', 'BO', 'DE', 'DE', 'SI', 'SI', 'DE', 'CA', 'DE', 'SE', 'SI', 'HO', 'SI', 'DE', 'SE', 'SI', 'HO', 'BO', 'DE', 'CA', 'SI', 'DE', 'SE', 'HO', 'SI', 'DE', 'SE', 'SI', 'DE', 'DE', 'SE', 'DE', 'HO', 'SI', 'SI', 'BA', 'DE', 'BO', 'CA', 'HO', 'DE', 'CA', 'DE', 'HO', 'CA', 'SI', 'DE', 'BO', 'CA', 'DE', 'SE', 'CA', 'SE', 'CA', 'SI', 'BA', 'SI', 'HO', 'DE', 'BA', 'HO', 'SE', 'BA', 'CA', 'DE', 'SE', 'CA', 'CA', 'SI', 'BO', 'HO', 'HO', 'DE', 'SI', 'HO', 'HO', 'BA', 'SI', 'CA', 'SE', 'SE', 'SI', 'HO', 'DE', 'HO', 'SE', 'CA', 'DE', 'HO', 'SI', 'SI', 'DE', 'CA', 'SE', 'DE', 'SI', 'BA', 'HO', 'HO', 'BO', 'SI', 'DE', 'SE', 'SE', 'CA', 'SI', 'HO', 'HO', 'SI', 'CA', 'SI', 'DE', 'SE', 'SI', 'DE', 'CA', 'DE', 'SE', 'DE', 'SI', 'SI', 'CA', 'DE', 'SI', 'SE', 'DE', 'DE', 'SE', 'DE', 'CA', 'HO', 'CA', 'DE', 'DE', 'SI', 'HO', 'DE', 'CA', 'SE', 'SE', 'SI', 'DE', 'SE', 'CA', 'HO', 'CA', 'DE', 'BA', 'SI', 'BA', 'DE', 'CA', 'CA', 'HO', 'SI', 'SE', 'SI', 'DE', 'DE', 'BA', 'DE', 'DE', 'SI', 'DE', 'HO', 'CA', 'HO', 'CA', 'SI', 'SI', 'DE', 'SI', 'HO', 'DE', 'SI', 'SI', 'BA', 'HO', 'HO', 'HO', 'DE', 'SE', 'SE', 'DE', 'CA', 'BA', 'DE', 'BO', 'SI', 'SE', 'DE', 'DE', 'BO', 'SE', 'DE', 'DE', 'DE', 'HO', 'SE', 'DE', 'CA', 'SI', 'DE', 'BO', 'SI', 'HO', 'SI', 'SI', 'DE', 'DE', 'SI', 'SI', 'SI', 'SE', 'SE', 'SE', 'CA', 'HO', 'SE', 'SE', 'CA', 'HO', 'BA', 'BA', 'DE', 'SI', 'SE', 'SE', 'DE', 'HO', 'DE', 'BA', 'DE', 'SI', 'SI', 'SI', 'HO', 'SI', 'HO', 'BA', 'BA', 'DE', 'SI', 'BO', 'HO', 'SI', 'DE', 'DE', 'SE', 'SI', 'DE', 'HO', 'SE', 'DE', 'BO', 'SI', 'HO', 'BA', 'SI', 'SE', 'SI', 'DE', 'SI', 'HO', 'SI', 'SE', 'SI', 'DE', 'DE', 'DE', 'SI', 'DE', 'DE', 'CA', 'SE', 'DE', 'BA', 'CA', 'DE', 'SE', 'DE', 'BA', 'SI', 'CA', 'SI', 'SE', 'DE', 'CA', 'SI', 'CA', 'BO', 'SE', 'SI', 'CA', 'DE', 'DE', 'BA', 'BA', 'DE', 'DE', 'BA', 'CA', 'SI', 'HO', 'SI', 'CA', 'HO', 'DE', 'HO', 'BO', 'DE', 'HO', 'SI', 'HO', 'SI', 'DE', 'CA', 'BO', 'SI', 'SE', 'DE', 'SI', 'DE', 'BA', 'HO', 'HO', 'SE', 'SE', 'SI', 'BA', 'SE', 'DE', 'DE', 'BA', 'SI', 'HO', 'SE', 'SE', 'CA', 'CA', 'DE', 'DE', 'DE', 'DE', 'HO', 'DE', 'HO', 'DE', 'SI', 'BA', 'DE', 'SE', 'BA', 'HO', 'SI', 'DE', 'SI', 'HO', 'SI', 'SI', 'HO', 'BO', 'HO', 'SE', 'BA', 'HO', 'SI', 'SE', 'SI', 'SE', 'BA', 'BA', 'DE', 'BA', 'HO', 'CA', 'SI', 'BA', 'SI', 'SE', 'SE', 'DE', 'SE', 'HO', 'SI', 'HO', 'HO', 'SE', 'HO', 'SI', 'DE', 'BA', 'SE', 'CA', 'SE', 'DE', 'CA', 'SI', 'SE', 'CA', 'SI', 'DE', 'CA', 'BA', 'BO', 'CA', 'SI', 'CA', 'BA', 'CA', 'CA', 'SE', 'BO', 'SE', 'DE', 'BA', 'HO', 'DE', 'HO', 'HO', 'DE', 'SE', 'DE', 'HO', 'SI', 'BA', 'SI', 'BA', 'SI', 'CA', 'BA', 'BA', 'SE', 'BA', 'CA', 'SI', 'SE', 'SI', 'SI', 'DE', 'BA', 'SI', 'CA', 'SI', 'SE', 'DE', 'SE', 'SE', 'CA', 'DE', 'CA', 'BO', 'SE', 'SE', 'SE', 'DE', 'SE', 'DE', 'DE', 'DE', 'CA', 'SI', 'CA', 'SE', 'HO', 'DE', 'DE', 'SE', 'DE', 'DE', 'CA', 'HO', 'CA', 'SE', 'DE', 'CA', 'CA', 'DE', 'SI', 'DE', 'DE', 'SI', 'BA', 'DE', 'SI', 'BA', 'SE', 'DE', 'SI', 'DE', 'HO', 'SI', 'HO', 'HO', 'BA', 'CA', 'BA', 'SE', 'HO', 'CA', 'HO', 'CA', 'HO', 'CA', 'HO', 'SE', 'CA', 'BA', 'DE', 'BA', 'HO', 'SE', 'SE', 'SE', 'DE', 'DE', 'HO', 'DE', 'CA', 'DE', 'BA', 'HO', 'SE', 'DE', 'CA', 'SI', 'SE', 'HO', 'CA', 'BO', 'SI', 'HO', 'BO', 'DE', 'SI', 'DE', 'DE', 'DE', 'HO', 'SE', 'SI', 'HO', 'HO', 'DE', 'SI', 'DE', 'CA', 'DE', 'DE', 'DE', 'DE', 'CA', 'DE', 'DE', 'SI', 'HO', 'CA', 'DE', 'SE', 'HO', 'DE', 'DE', 'SI', 'DE', 'CA', 'DE', 'DE', 'SE', 'BA', 'SE', 'SI', 'SI', 'SI', 'DE', 'CA', 'CA', 'SI', 'DE', 'DE', 'BO', 'BO', 'BA', 'DE', 'BA', 'DE', 'SI', 'DE', 'BO', 'BA', 'HO', 'DE', 'BA', 'DE', 'DE', 'SI', 'SI', 'CA', 'SE', 'DE', 'HO', 'SI', 'HO', 'SE', 'CA', 'DE', 'HO', 'BO', 'DE', 'HO', 'HO', 'DE', 'CA', 'HO', 'SI', 'DE', 'SI', 'DE', 'SE', 'SI', 'HO', 'SI', 'SI', 'DE', 'DE', 'SE', 'DE', 'SE', 'HO', 'HO', 'HO', 'BA', 'CA', 'CA']\n"
     ]
    }
   ],
   "source": [
    "print(final_predictions_class, test_labels_class)"
   ]
  },
  {
   "cell_type": "code",
   "execution_count": null,
   "id": "bccfa80e",
   "metadata": {},
   "outputs": [],
   "source": []
  }
 ],
 "metadata": {
  "kernelspec": {
   "display_name": "Python 3 (ipykernel)",
   "language": "python",
   "name": "python3"
  },
  "language_info": {
   "codemirror_mode": {
    "name": "ipython",
    "version": 3
   },
   "file_extension": ".py",
   "mimetype": "text/x-python",
   "name": "python",
   "nbconvert_exporter": "python",
   "pygments_lexer": "ipython3",
   "version": "3.10.1"
  }
 },
 "nbformat": 4,
 "nbformat_minor": 5
}
